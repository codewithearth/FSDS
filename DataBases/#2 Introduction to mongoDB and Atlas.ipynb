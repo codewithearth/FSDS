{
 "cells": [
  {
   "cell_type": "code",
   "execution_count": 1,
   "metadata": {},
   "outputs": [
    {
     "name": "stdout",
     "output_type": "stream",
     "text": [
      "Requirement already satisfied: pymongo in /home/er-royalprince/snap/jupyter/common/lib/python3.7/site-packages (4.0.1)\r\n"
     ]
    }
   ],
   "source": [
    "!python -m pip install pymongo"
   ]
  },
  {
   "cell_type": "code",
   "execution_count": 2,
   "metadata": {},
   "outputs": [
    {
     "name": "stdout",
     "output_type": "stream",
     "text": [
      "Requirement already satisfied: pymongo[srv] in /home/er-royalprince/snap/jupyter/common/lib/python3.7/site-packages (4.0.1)\r\n",
      "Requirement already satisfied: dnspython<3.0.0,>=1.16.0 in /home/er-royalprince/snap/jupyter/common/lib/python3.7/site-packages (from pymongo[srv]) (2.2.0)\r\n"
     ]
    }
   ],
   "source": [
    "!python -m pip install pymongo[srv]"
   ]
  },
  {
   "cell_type": "code",
   "execution_count": 8,
   "metadata": {},
   "outputs": [],
   "source": [
    "import pymongo\n",
    "client = pymongo.MongoClient(\"mongodb+srv://test:<password>@cluster0.zk5oz.mongodb.net/myFirstDatabase?retryWrites=true&w=majority\")\n",
    "db = client.test"
   ]
  },
  {
   "cell_type": "code",
   "execution_count": 3,
   "metadata": {},
   "outputs": [
    {
     "data": {
      "text/plain": [
       "MongoClient(host=['localhost:27017'], document_class=dict, tz_aware=False, connect=True)"
      ]
     },
     "execution_count": 3,
     "metadata": {},
     "output_type": "execute_result"
    }
   ],
   "source": [
    "import pymongo\n",
    "client_local = pymongo.MongoClient(\"mongodb://localhost:27017/\")\n",
    "client_local"
   ]
  },
  {
   "cell_type": "code",
   "execution_count": 10,
   "metadata": {},
   "outputs": [],
   "source": [
    "db_1 = client_local[\"prince_kumar\"]"
   ]
  },
  {
   "cell_type": "code",
   "execution_count": 5,
   "metadata": {},
   "outputs": [
    {
     "data": {
      "text/plain": [
       "['admin', 'config', 'local']"
      ]
     },
     "execution_count": 5,
     "metadata": {},
     "output_type": "execute_result"
    }
   ],
   "source": [
    "client_local.list_database_names()"
   ]
  },
  {
   "cell_type": "code",
   "execution_count": 9,
   "metadata": {
    "collapsed": true
   },
   "outputs": [
    {
     "ename": "ServerSelectionTimeoutError",
     "evalue": "cluster0-shard-00-00.zk5oz.mongodb.net:27017: [SSL: CERTIFICATE_VERIFY_FAILED] certificate verify failed: unable to get local issuer certificate (_ssl.c:1056),cluster0-shard-00-01.zk5oz.mongodb.net:27017: [SSL: CERTIFICATE_VERIFY_FAILED] certificate verify failed: unable to get local issuer certificate (_ssl.c:1056),cluster0-shard-00-02.zk5oz.mongodb.net:27017: [SSL: CERTIFICATE_VERIFY_FAILED] certificate verify failed: unable to get local issuer certificate (_ssl.c:1056), Timeout: 30s, Topology Description: <TopologyDescription id: 622392eb17fc227f010c60bd, topology_type: ReplicaSetNoPrimary, servers: [<ServerDescription ('cluster0-shard-00-00.zk5oz.mongodb.net', 27017) server_type: Unknown, rtt: None, error=AutoReconnect('cluster0-shard-00-00.zk5oz.mongodb.net:27017: [SSL: CERTIFICATE_VERIFY_FAILED] certificate verify failed: unable to get local issuer certificate (_ssl.c:1056)')>, <ServerDescription ('cluster0-shard-00-01.zk5oz.mongodb.net', 27017) server_type: Unknown, rtt: None, error=AutoReconnect('cluster0-shard-00-01.zk5oz.mongodb.net:27017: [SSL: CERTIFICATE_VERIFY_FAILED] certificate verify failed: unable to get local issuer certificate (_ssl.c:1056)')>, <ServerDescription ('cluster0-shard-00-02.zk5oz.mongodb.net', 27017) server_type: Unknown, rtt: None, error=AutoReconnect('cluster0-shard-00-02.zk5oz.mongodb.net:27017: [SSL: CERTIFICATE_VERIFY_FAILED] certificate verify failed: unable to get local issuer certificate (_ssl.c:1056)')>]>",
     "output_type": "error",
     "traceback": [
      "\u001b[0;31m---------------------------------------------------------------------------\u001b[0m",
      "\u001b[0;31mServerSelectionTimeoutError\u001b[0m               Traceback (most recent call last)",
      "\u001b[0;32m<ipython-input-9-62f658703d98>\u001b[0m in \u001b[0;36m<module>\u001b[0;34m\u001b[0m\n\u001b[0;32m----> 1\u001b[0;31m \u001b[0mclient\u001b[0m\u001b[0;34m.\u001b[0m\u001b[0mlist_database_names\u001b[0m\u001b[0;34m(\u001b[0m\u001b[0;34m)\u001b[0m\u001b[0;34m\u001b[0m\u001b[0;34m\u001b[0m\u001b[0m\n\u001b[0m",
      "\u001b[0;32m/home/er-royalprince/snap/jupyter/common/lib/python3.7/site-packages/pymongo/mongo_client.py\u001b[0m in \u001b[0;36mlist_database_names\u001b[0;34m(self, session)\u001b[0m\n\u001b[1;32m   1703\u001b[0m         \"\"\"\n\u001b[1;32m   1704\u001b[0m         return [doc[\"name\"]\n\u001b[0;32m-> 1705\u001b[0;31m                 for doc in self.list_databases(session, nameOnly=True)]\n\u001b[0m\u001b[1;32m   1706\u001b[0m \u001b[0;34m\u001b[0m\u001b[0m\n\u001b[1;32m   1707\u001b[0m     \u001b[0;32mdef\u001b[0m \u001b[0mdrop_database\u001b[0m\u001b[0;34m(\u001b[0m\u001b[0mself\u001b[0m\u001b[0;34m,\u001b[0m \u001b[0mname_or_database\u001b[0m\u001b[0;34m,\u001b[0m \u001b[0msession\u001b[0m\u001b[0;34m=\u001b[0m\u001b[0;32mNone\u001b[0m\u001b[0;34m)\u001b[0m\u001b[0;34m:\u001b[0m\u001b[0;34m\u001b[0m\u001b[0;34m\u001b[0m\u001b[0m\n",
      "\u001b[0;32m/home/er-royalprince/snap/jupyter/common/lib/python3.7/site-packages/pymongo/mongo_client.py\u001b[0m in \u001b[0;36mlist_databases\u001b[0;34m(self, session, **kwargs)\u001b[0m\n\u001b[1;32m   1684\u001b[0m         \u001b[0mcmd\u001b[0m\u001b[0;34m.\u001b[0m\u001b[0mupdate\u001b[0m\u001b[0;34m(\u001b[0m\u001b[0mkwargs\u001b[0m\u001b[0;34m)\u001b[0m\u001b[0;34m\u001b[0m\u001b[0;34m\u001b[0m\u001b[0m\n\u001b[1;32m   1685\u001b[0m         \u001b[0madmin\u001b[0m \u001b[0;34m=\u001b[0m \u001b[0mself\u001b[0m\u001b[0;34m.\u001b[0m\u001b[0m_database_default_options\u001b[0m\u001b[0;34m(\u001b[0m\u001b[0;34m\"admin\"\u001b[0m\u001b[0;34m)\u001b[0m\u001b[0;34m\u001b[0m\u001b[0;34m\u001b[0m\u001b[0m\n\u001b[0;32m-> 1686\u001b[0;31m         \u001b[0mres\u001b[0m \u001b[0;34m=\u001b[0m \u001b[0madmin\u001b[0m\u001b[0;34m.\u001b[0m\u001b[0m_retryable_read_command\u001b[0m\u001b[0;34m(\u001b[0m\u001b[0mcmd\u001b[0m\u001b[0;34m,\u001b[0m \u001b[0msession\u001b[0m\u001b[0;34m=\u001b[0m\u001b[0msession\u001b[0m\u001b[0;34m)\u001b[0m\u001b[0;34m\u001b[0m\u001b[0;34m\u001b[0m\u001b[0m\n\u001b[0m\u001b[1;32m   1687\u001b[0m         \u001b[0;31m# listDatabases doesn't return a cursor (yet). Fake one.\u001b[0m\u001b[0;34m\u001b[0m\u001b[0;34m\u001b[0m\u001b[0;34m\u001b[0m\u001b[0m\n\u001b[1;32m   1688\u001b[0m         cursor = {\n",
      "\u001b[0;32m/home/er-royalprince/snap/jupyter/common/lib/python3.7/site-packages/pymongo/database.py\u001b[0m in \u001b[0;36m_retryable_read_command\u001b[0;34m(self, command, value, check, allowable_errors, read_preference, codec_options, session, **kwargs)\u001b[0m\n\u001b[1;32m    612\u001b[0m \u001b[0;34m\u001b[0m\u001b[0m\n\u001b[1;32m    613\u001b[0m         return self.__client._retryable_read(\n\u001b[0;32m--> 614\u001b[0;31m             _cmd, read_preference, session)\n\u001b[0m\u001b[1;32m    615\u001b[0m \u001b[0;34m\u001b[0m\u001b[0m\n\u001b[1;32m    616\u001b[0m     def _list_collections(self, sock_info, secondary_okay, session,\n",
      "\u001b[0;32m/home/er-royalprince/snap/jupyter/common/lib/python3.7/site-packages/pymongo/mongo_client.py\u001b[0m in \u001b[0;36m_retryable_read\u001b[0;34m(self, func, read_pref, session, address, retryable)\u001b[0m\n\u001b[1;32m   1304\u001b[0m             \u001b[0;32mtry\u001b[0m\u001b[0;34m:\u001b[0m\u001b[0;34m\u001b[0m\u001b[0;34m\u001b[0m\u001b[0m\n\u001b[1;32m   1305\u001b[0m                 server = self._select_server(\n\u001b[0;32m-> 1306\u001b[0;31m                     read_pref, session, address=address)\n\u001b[0m\u001b[1;32m   1307\u001b[0m                 with self._secondaryok_for_server(read_pref, server, session) as (\n\u001b[1;32m   1308\u001b[0m                             sock_info, secondary_ok):\n",
      "\u001b[0;32m/home/er-royalprince/snap/jupyter/common/lib/python3.7/site-packages/pymongo/mongo_client.py\u001b[0m in \u001b[0;36m_select_server\u001b[0;34m(self, server_selector, session, address)\u001b[0m\n\u001b[1;32m   1135\u001b[0m                                         % address)\n\u001b[1;32m   1136\u001b[0m             \u001b[0;32melse\u001b[0m\u001b[0;34m:\u001b[0m\u001b[0;34m\u001b[0m\u001b[0;34m\u001b[0m\u001b[0m\n\u001b[0;32m-> 1137\u001b[0;31m                 \u001b[0mserver\u001b[0m \u001b[0;34m=\u001b[0m \u001b[0mtopology\u001b[0m\u001b[0;34m.\u001b[0m\u001b[0mselect_server\u001b[0m\u001b[0;34m(\u001b[0m\u001b[0mserver_selector\u001b[0m\u001b[0;34m)\u001b[0m\u001b[0;34m\u001b[0m\u001b[0;34m\u001b[0m\u001b[0m\n\u001b[0m\u001b[1;32m   1138\u001b[0m             \u001b[0;32mreturn\u001b[0m \u001b[0mserver\u001b[0m\u001b[0;34m\u001b[0m\u001b[0;34m\u001b[0m\u001b[0m\n\u001b[1;32m   1139\u001b[0m         \u001b[0;32mexcept\u001b[0m \u001b[0mPyMongoError\u001b[0m \u001b[0;32mas\u001b[0m \u001b[0mexc\u001b[0m\u001b[0;34m:\u001b[0m\u001b[0;34m\u001b[0m\u001b[0;34m\u001b[0m\u001b[0m\n",
      "\u001b[0;32m/home/er-royalprince/snap/jupyter/common/lib/python3.7/site-packages/pymongo/topology.py\u001b[0m in \u001b[0;36mselect_server\u001b[0;34m(self, selector, server_selection_timeout, address)\u001b[0m\n\u001b[1;32m    241\u001b[0m         \u001b[0;34m\"\"\"Like select_servers, but choose a random server if several match.\"\"\"\u001b[0m\u001b[0;34m\u001b[0m\u001b[0;34m\u001b[0m\u001b[0m\n\u001b[1;32m    242\u001b[0m         servers = self.select_servers(\n\u001b[0;32m--> 243\u001b[0;31m             selector, server_selection_timeout, address)\n\u001b[0m\u001b[1;32m    244\u001b[0m         \u001b[0;32mif\u001b[0m \u001b[0mlen\u001b[0m\u001b[0;34m(\u001b[0m\u001b[0mservers\u001b[0m\u001b[0;34m)\u001b[0m \u001b[0;34m==\u001b[0m \u001b[0;36m1\u001b[0m\u001b[0;34m:\u001b[0m\u001b[0;34m\u001b[0m\u001b[0;34m\u001b[0m\u001b[0m\n\u001b[1;32m    245\u001b[0m             \u001b[0;32mreturn\u001b[0m \u001b[0mservers\u001b[0m\u001b[0;34m[\u001b[0m\u001b[0;36m0\u001b[0m\u001b[0;34m]\u001b[0m\u001b[0;34m\u001b[0m\u001b[0;34m\u001b[0m\u001b[0m\n",
      "\u001b[0;32m/home/er-royalprince/snap/jupyter/common/lib/python3.7/site-packages/pymongo/topology.py\u001b[0m in \u001b[0;36mselect_servers\u001b[0;34m(self, selector, server_selection_timeout, address)\u001b[0m\n\u001b[1;32m    199\u001b[0m         \u001b[0;32mwith\u001b[0m \u001b[0mself\u001b[0m\u001b[0;34m.\u001b[0m\u001b[0m_lock\u001b[0m\u001b[0;34m:\u001b[0m\u001b[0;34m\u001b[0m\u001b[0;34m\u001b[0m\u001b[0m\n\u001b[1;32m    200\u001b[0m             server_descriptions = self._select_servers_loop(\n\u001b[0;32m--> 201\u001b[0;31m                 selector, server_timeout, address)\n\u001b[0m\u001b[1;32m    202\u001b[0m \u001b[0;34m\u001b[0m\u001b[0m\n\u001b[1;32m    203\u001b[0m             return [self.get_server_by_address(sd.address)\n",
      "\u001b[0;32m/home/er-royalprince/snap/jupyter/common/lib/python3.7/site-packages/pymongo/topology.py\u001b[0m in \u001b[0;36m_select_servers_loop\u001b[0;34m(self, selector, timeout, address)\u001b[0m\n\u001b[1;32m    216\u001b[0m                 raise ServerSelectionTimeoutError(\n\u001b[1;32m    217\u001b[0m                     \u001b[0;34m\"%s, Timeout: %ss, Topology Description: %r\"\u001b[0m \u001b[0;34m%\u001b[0m\u001b[0;34m\u001b[0m\u001b[0;34m\u001b[0m\u001b[0m\n\u001b[0;32m--> 218\u001b[0;31m                     (self._error_message(selector), timeout, self.description))\n\u001b[0m\u001b[1;32m    219\u001b[0m \u001b[0;34m\u001b[0m\u001b[0m\n\u001b[1;32m    220\u001b[0m             \u001b[0mself\u001b[0m\u001b[0;34m.\u001b[0m\u001b[0m_ensure_opened\u001b[0m\u001b[0;34m(\u001b[0m\u001b[0;34m)\u001b[0m\u001b[0;34m\u001b[0m\u001b[0;34m\u001b[0m\u001b[0m\n",
      "\u001b[0;31mServerSelectionTimeoutError\u001b[0m: cluster0-shard-00-00.zk5oz.mongodb.net:27017: [SSL: CERTIFICATE_VERIFY_FAILED] certificate verify failed: unable to get local issuer certificate (_ssl.c:1056),cluster0-shard-00-01.zk5oz.mongodb.net:27017: [SSL: CERTIFICATE_VERIFY_FAILED] certificate verify failed: unable to get local issuer certificate (_ssl.c:1056),cluster0-shard-00-02.zk5oz.mongodb.net:27017: [SSL: CERTIFICATE_VERIFY_FAILED] certificate verify failed: unable to get local issuer certificate (_ssl.c:1056), Timeout: 30s, Topology Description: <TopologyDescription id: 622392eb17fc227f010c60bd, topology_type: ReplicaSetNoPrimary, servers: [<ServerDescription ('cluster0-shard-00-00.zk5oz.mongodb.net', 27017) server_type: Unknown, rtt: None, error=AutoReconnect('cluster0-shard-00-00.zk5oz.mongodb.net:27017: [SSL: CERTIFICATE_VERIFY_FAILED] certificate verify failed: unable to get local issuer certificate (_ssl.c:1056)')>, <ServerDescription ('cluster0-shard-00-01.zk5oz.mongodb.net', 27017) server_type: Unknown, rtt: None, error=AutoReconnect('cluster0-shard-00-01.zk5oz.mongodb.net:27017: [SSL: CERTIFICATE_VERIFY_FAILED] certificate verify failed: unable to get local issuer certificate (_ssl.c:1056)')>, <ServerDescription ('cluster0-shard-00-02.zk5oz.mongodb.net', 27017) server_type: Unknown, rtt: None, error=AutoReconnect('cluster0-shard-00-02.zk5oz.mongodb.net:27017: [SSL: CERTIFICATE_VERIFY_FAILED] certificate verify failed: unable to get local issuer certificate (_ssl.c:1056)')>]>"
     ]
    }
   ],
   "source": [
    "client.list_database_names()"
   ]
  },
  {
   "cell_type": "code",
   "execution_count": 11,
   "metadata": {},
   "outputs": [
    {
     "data": {
      "text/plain": [
       "Database(MongoClient(host=['localhost:27017'], document_class=dict, tz_aware=False, connect=True), 'prince_kumar')"
      ]
     },
     "execution_count": 11,
     "metadata": {},
     "output_type": "execute_result"
    }
   ],
   "source": [
    "db_1"
   ]
  },
  {
   "cell_type": "code",
   "execution_count": 12,
   "metadata": {},
   "outputs": [],
   "source": [
    "collection = db_1['test']"
   ]
  },
  {
   "cell_type": "code",
   "execution_count": 13,
   "metadata": {},
   "outputs": [
    {
     "data": {
      "text/plain": [
       "Collection(Database(MongoClient(host=['localhost:27017'], document_class=dict, tz_aware=False, connect=True), 'prince_kumar'), 'test')"
      ]
     },
     "execution_count": 13,
     "metadata": {},
     "output_type": "execute_result"
    }
   ],
   "source": [
    "collection"
   ]
  },
  {
   "cell_type": "code",
   "execution_count": 20,
   "metadata": {},
   "outputs": [
    {
     "data": {
      "text/plain": [
       "<pymongo.results.InsertOneResult at 0x7f1c32e40608>"
      ]
     },
     "execution_count": 20,
     "metadata": {},
     "output_type": "execute_result"
    }
   ],
   "source": [
    "record = {'name':\"Prince\",\n",
    "         'age':'12',\n",
    "         'address':'Himachal Pradesh'}\n",
    "collection.insert_one(record)"
   ]
  },
  {
   "cell_type": "code",
   "execution_count": 21,
   "metadata": {},
   "outputs": [
    {
     "data": {
      "text/plain": [
       "<pymongo.results.InsertOneResult at 0x7f1c32e67908>"
      ]
     },
     "execution_count": 21,
     "metadata": {},
     "output_type": "execute_result"
    }
   ],
   "source": [
    "record = {'name':\"Prince\",\n",
    "         'age':'12',\n",
    "         'address':'Himachal Pradesh',\n",
    "         'words':[\"abc\",123,'!@#$']}\n",
    "collection.insert_one(record)"
   ]
  },
  {
   "cell_type": "code",
   "execution_count": 22,
   "metadata": {},
   "outputs": [
    {
     "data": {
      "text/plain": [
       "<pymongo.results.InsertOneResult at 0x7f1c32e63ac8>"
      ]
     },
     "execution_count": 22,
     "metadata": {},
     "output_type": "execute_result"
    }
   ],
   "source": [
    "record = {'name':\"Prince\",\n",
    "         'age':'12',\n",
    "         'address':'Himachal Pradesh',\n",
    "         'words':[\"abc\",123,'!@#$'],\n",
    "         'record':{\"name\":\"prince\",\"email_id\":\"codewithearth@gmail.com\",\n",
    "                  \"phone_number\":8475912647}}\n",
    "collection.insert_one(record)"
   ]
  },
  {
   "cell_type": "code",
   "execution_count": null,
   "metadata": {},
   "outputs": [],
   "source": [
    "{\"_id\":{\"$oid\":\"62239c5a17fc227f010c60c5\"},\"name\":\"Prince\",\"age\":\"12\",\"address\":\"Himachal Pradesh\",\"words\":[\"abc\",123,\"!@#$\"],\"record\":{\"name\":\"prince\",\"email_id\":\"codewithearth@gmail.com\",\"phone_number\":{\"$numberLong\":\"8475912647\"}}}"
   ]
  },
  {
   "cell_type": "code",
   "execution_count": 25,
   "metadata": {},
   "outputs": [
    {
     "data": {
      "text/plain": [
       "<pymongo.results.InsertOneResult at 0x7f1c32e5ebc8>"
      ]
     },
     "execution_count": 25,
     "metadata": {},
     "output_type": "execute_result"
    }
   ],
   "source": [
    "import pymongo\n",
    "client_local = pymongo.MongoClient(\"mongodb://localhost:27017/\")\n",
    "db_1 = client_local[\"prince_kumar\"]\n",
    "collection = db_1['test']\n",
    "record = {'name':\"Prince\",\n",
    "         'age':'12',\n",
    "         'address':'Himachal Pradesh',\n",
    "         'words':[\"abc\",123,'!@#$'],\n",
    "         'record':{\"name\":\"prince\",\"email_id\":\"codewithearth@gmail.com\",\n",
    "                  \"phone_number\":8475912647}}\n",
    "collection.insert_one(record)"
   ]
  },
  {
   "cell_type": "code",
   "execution_count": 24,
   "metadata": {
    "collapsed": true
   },
   "outputs": [
    {
     "ename": "ServerSelectionTimeoutError",
     "evalue": "cluster0-shard-00-00.zk5oz.mongodb.net:27017: [Errno -3] Temporary failure in name resolution,cluster0-shard-00-01.zk5oz.mongodb.net:27017: [SSL: CERTIFICATE_VERIFY_FAILED] certificate verify failed: unable to get local issuer certificate (_ssl.c:1056),cluster0-shard-00-02.zk5oz.mongodb.net:27017: [SSL: CERTIFICATE_VERIFY_FAILED] certificate verify failed: unable to get local issuer certificate (_ssl.c:1056), Timeout: 30s, Topology Description: <TopologyDescription id: 62239fea17fc227f010c60c8, topology_type: ReplicaSetNoPrimary, servers: [<ServerDescription ('cluster0-shard-00-00.zk5oz.mongodb.net', 27017) server_type: Unknown, rtt: None, error=AutoReconnect('cluster0-shard-00-00.zk5oz.mongodb.net:27017: [Errno -3] Temporary failure in name resolution')>, <ServerDescription ('cluster0-shard-00-01.zk5oz.mongodb.net', 27017) server_type: Unknown, rtt: None, error=AutoReconnect('cluster0-shard-00-01.zk5oz.mongodb.net:27017: [SSL: CERTIFICATE_VERIFY_FAILED] certificate verify failed: unable to get local issuer certificate (_ssl.c:1056)')>, <ServerDescription ('cluster0-shard-00-02.zk5oz.mongodb.net', 27017) server_type: Unknown, rtt: None, error=AutoReconnect('cluster0-shard-00-02.zk5oz.mongodb.net:27017: [SSL: CERTIFICATE_VERIFY_FAILED] certificate verify failed: unable to get local issuer certificate (_ssl.c:1056)')>]>",
     "output_type": "error",
     "traceback": [
      "\u001b[0;31m---------------------------------------------------------------------------\u001b[0m",
      "\u001b[0;31mServerSelectionTimeoutError\u001b[0m               Traceback (most recent call last)",
      "\u001b[0;32m<ipython-input-24-71b1d1570f9d>\u001b[0m in \u001b[0;36m<module>\u001b[0;34m\u001b[0m\n\u001b[1;32m      9\u001b[0m          'record':{\"name\":\"prince\",\"email_id\":\"codewithearth@gmail.com\",\n\u001b[1;32m     10\u001b[0m                   \"phone_number\":8475912647}}\n\u001b[0;32m---> 11\u001b[0;31m \u001b[0mcollection\u001b[0m\u001b[0;34m.\u001b[0m\u001b[0minsert_one\u001b[0m\u001b[0;34m(\u001b[0m\u001b[0mrecord\u001b[0m\u001b[0;34m)\u001b[0m\u001b[0;34m\u001b[0m\u001b[0;34m\u001b[0m\u001b[0m\n\u001b[0m",
      "\u001b[0;32m/home/er-royalprince/snap/jupyter/common/lib/python3.7/site-packages/pymongo/collection.py\u001b[0m in \u001b[0;36minsert_one\u001b[0;34m(self, document, bypass_document_validation, session)\u001b[0m\n\u001b[1;32m    525\u001b[0m                 \u001b[0mdocument\u001b[0m\u001b[0;34m,\u001b[0m \u001b[0mordered\u001b[0m\u001b[0;34m=\u001b[0m\u001b[0;32mTrue\u001b[0m\u001b[0;34m,\u001b[0m \u001b[0mcheck_keys\u001b[0m\u001b[0;34m=\u001b[0m\u001b[0;32mFalse\u001b[0m\u001b[0;34m,\u001b[0m\u001b[0;34m\u001b[0m\u001b[0;34m\u001b[0m\u001b[0m\n\u001b[1;32m    526\u001b[0m                 \u001b[0mwrite_concern\u001b[0m\u001b[0;34m=\u001b[0m\u001b[0mwrite_concern\u001b[0m\u001b[0;34m,\u001b[0m \u001b[0mop_id\u001b[0m\u001b[0;34m=\u001b[0m\u001b[0;32mNone\u001b[0m\u001b[0;34m,\u001b[0m\u001b[0;34m\u001b[0m\u001b[0;34m\u001b[0m\u001b[0m\n\u001b[0;32m--> 527\u001b[0;31m                 bypass_doc_val=bypass_document_validation, session=session),\n\u001b[0m\u001b[1;32m    528\u001b[0m             write_concern.acknowledged)\n\u001b[1;32m    529\u001b[0m \u001b[0;34m\u001b[0m\u001b[0m\n",
      "\u001b[0;32m/home/er-royalprince/snap/jupyter/common/lib/python3.7/site-packages/pymongo/collection.py\u001b[0m in \u001b[0;36m_insert_one\u001b[0;34m(self, doc, ordered, check_keys, write_concern, op_id, bypass_doc_val, session)\u001b[0m\n\u001b[1;32m    473\u001b[0m \u001b[0;34m\u001b[0m\u001b[0m\n\u001b[1;32m    474\u001b[0m         self.__database.client._retryable_write(\n\u001b[0;32m--> 475\u001b[0;31m             acknowledged, _insert_command, session)\n\u001b[0m\u001b[1;32m    476\u001b[0m \u001b[0;34m\u001b[0m\u001b[0m\n\u001b[1;32m    477\u001b[0m         \u001b[0;32mif\u001b[0m \u001b[0;32mnot\u001b[0m \u001b[0misinstance\u001b[0m\u001b[0;34m(\u001b[0m\u001b[0mdoc\u001b[0m\u001b[0;34m,\u001b[0m \u001b[0mRawBSONDocument\u001b[0m\u001b[0;34m)\u001b[0m\u001b[0;34m:\u001b[0m\u001b[0;34m\u001b[0m\u001b[0;34m\u001b[0m\u001b[0m\n",
      "\u001b[0;32m/home/er-royalprince/snap/jupyter/common/lib/python3.7/site-packages/pymongo/mongo_client.py\u001b[0m in \u001b[0;36m_retryable_write\u001b[0;34m(self, retryable, func, session)\u001b[0m\n\u001b[1;32m   1337\u001b[0m     \u001b[0;32mdef\u001b[0m \u001b[0m_retryable_write\u001b[0m\u001b[0;34m(\u001b[0m\u001b[0mself\u001b[0m\u001b[0;34m,\u001b[0m \u001b[0mretryable\u001b[0m\u001b[0;34m,\u001b[0m \u001b[0mfunc\u001b[0m\u001b[0;34m,\u001b[0m \u001b[0msession\u001b[0m\u001b[0;34m)\u001b[0m\u001b[0;34m:\u001b[0m\u001b[0;34m\u001b[0m\u001b[0;34m\u001b[0m\u001b[0m\n\u001b[1;32m   1338\u001b[0m         \u001b[0;34m\"\"\"Internal retryable write helper.\"\"\"\u001b[0m\u001b[0;34m\u001b[0m\u001b[0;34m\u001b[0m\u001b[0m\n\u001b[0;32m-> 1339\u001b[0;31m         \u001b[0;32mwith\u001b[0m \u001b[0mself\u001b[0m\u001b[0;34m.\u001b[0m\u001b[0m_tmp_session\u001b[0m\u001b[0;34m(\u001b[0m\u001b[0msession\u001b[0m\u001b[0;34m)\u001b[0m \u001b[0;32mas\u001b[0m \u001b[0ms\u001b[0m\u001b[0;34m:\u001b[0m\u001b[0;34m\u001b[0m\u001b[0;34m\u001b[0m\u001b[0m\n\u001b[0m\u001b[1;32m   1340\u001b[0m             \u001b[0;32mreturn\u001b[0m \u001b[0mself\u001b[0m\u001b[0;34m.\u001b[0m\u001b[0m_retry_with_session\u001b[0m\u001b[0;34m(\u001b[0m\u001b[0mretryable\u001b[0m\u001b[0;34m,\u001b[0m \u001b[0mfunc\u001b[0m\u001b[0;34m,\u001b[0m \u001b[0ms\u001b[0m\u001b[0;34m,\u001b[0m \u001b[0;32mNone\u001b[0m\u001b[0;34m)\u001b[0m\u001b[0;34m\u001b[0m\u001b[0;34m\u001b[0m\u001b[0m\n\u001b[1;32m   1341\u001b[0m \u001b[0;34m\u001b[0m\u001b[0m\n",
      "\u001b[0;32m/snap/jupyter/6/lib/python3.7/contextlib.py\u001b[0m in \u001b[0;36m__enter__\u001b[0;34m(self)\u001b[0m\n\u001b[1;32m    110\u001b[0m         \u001b[0;32mdel\u001b[0m \u001b[0mself\u001b[0m\u001b[0;34m.\u001b[0m\u001b[0margs\u001b[0m\u001b[0;34m,\u001b[0m \u001b[0mself\u001b[0m\u001b[0;34m.\u001b[0m\u001b[0mkwds\u001b[0m\u001b[0;34m,\u001b[0m \u001b[0mself\u001b[0m\u001b[0;34m.\u001b[0m\u001b[0mfunc\u001b[0m\u001b[0;34m\u001b[0m\u001b[0;34m\u001b[0m\u001b[0m\n\u001b[1;32m    111\u001b[0m         \u001b[0;32mtry\u001b[0m\u001b[0;34m:\u001b[0m\u001b[0;34m\u001b[0m\u001b[0;34m\u001b[0m\u001b[0m\n\u001b[0;32m--> 112\u001b[0;31m             \u001b[0;32mreturn\u001b[0m \u001b[0mnext\u001b[0m\u001b[0;34m(\u001b[0m\u001b[0mself\u001b[0m\u001b[0;34m.\u001b[0m\u001b[0mgen\u001b[0m\u001b[0;34m)\u001b[0m\u001b[0;34m\u001b[0m\u001b[0;34m\u001b[0m\u001b[0m\n\u001b[0m\u001b[1;32m    113\u001b[0m         \u001b[0;32mexcept\u001b[0m \u001b[0mStopIteration\u001b[0m\u001b[0;34m:\u001b[0m\u001b[0;34m\u001b[0m\u001b[0;34m\u001b[0m\u001b[0m\n\u001b[1;32m    114\u001b[0m             \u001b[0;32mraise\u001b[0m \u001b[0mRuntimeError\u001b[0m\u001b[0;34m(\u001b[0m\u001b[0;34m\"generator didn't yield\"\u001b[0m\u001b[0;34m)\u001b[0m \u001b[0;32mfrom\u001b[0m \u001b[0;32mNone\u001b[0m\u001b[0;34m\u001b[0m\u001b[0;34m\u001b[0m\u001b[0m\n",
      "\u001b[0;32m/home/er-royalprince/snap/jupyter/common/lib/python3.7/site-packages/pymongo/mongo_client.py\u001b[0m in \u001b[0;36m_tmp_session\u001b[0;34m(self, session, close)\u001b[0m\n\u001b[1;32m   1614\u001b[0m             \u001b[0;32mreturn\u001b[0m\u001b[0;34m\u001b[0m\u001b[0;34m\u001b[0m\u001b[0m\n\u001b[1;32m   1615\u001b[0m \u001b[0;34m\u001b[0m\u001b[0m\n\u001b[0;32m-> 1616\u001b[0;31m         \u001b[0ms\u001b[0m \u001b[0;34m=\u001b[0m \u001b[0mself\u001b[0m\u001b[0;34m.\u001b[0m\u001b[0m_ensure_session\u001b[0m\u001b[0;34m(\u001b[0m\u001b[0msession\u001b[0m\u001b[0;34m)\u001b[0m\u001b[0;34m\u001b[0m\u001b[0;34m\u001b[0m\u001b[0m\n\u001b[0m\u001b[1;32m   1617\u001b[0m         \u001b[0;32mif\u001b[0m \u001b[0ms\u001b[0m\u001b[0;34m:\u001b[0m\u001b[0;34m\u001b[0m\u001b[0;34m\u001b[0m\u001b[0m\n\u001b[1;32m   1618\u001b[0m             \u001b[0;32mtry\u001b[0m\u001b[0;34m:\u001b[0m\u001b[0;34m\u001b[0m\u001b[0;34m\u001b[0m\u001b[0m\n",
      "\u001b[0;32m/home/er-royalprince/snap/jupyter/common/lib/python3.7/site-packages/pymongo/mongo_client.py\u001b[0m in \u001b[0;36m_ensure_session\u001b[0;34m(self, session)\u001b[0m\n\u001b[1;32m   1601\u001b[0m             \u001b[0;31m# Don't make implicit sessions causally consistent. Applications\u001b[0m\u001b[0;34m\u001b[0m\u001b[0;34m\u001b[0m\u001b[0;34m\u001b[0m\u001b[0m\n\u001b[1;32m   1602\u001b[0m             \u001b[0;31m# should always opt-in.\u001b[0m\u001b[0;34m\u001b[0m\u001b[0;34m\u001b[0m\u001b[0;34m\u001b[0m\u001b[0m\n\u001b[0;32m-> 1603\u001b[0;31m             \u001b[0;32mreturn\u001b[0m \u001b[0mself\u001b[0m\u001b[0;34m.\u001b[0m\u001b[0m__start_session\u001b[0m\u001b[0;34m(\u001b[0m\u001b[0;32mTrue\u001b[0m\u001b[0;34m,\u001b[0m \u001b[0mcausal_consistency\u001b[0m\u001b[0;34m=\u001b[0m\u001b[0;32mFalse\u001b[0m\u001b[0;34m)\u001b[0m\u001b[0;34m\u001b[0m\u001b[0;34m\u001b[0m\u001b[0m\n\u001b[0m\u001b[1;32m   1604\u001b[0m         \u001b[0;32mexcept\u001b[0m \u001b[0;34m(\u001b[0m\u001b[0mConfigurationError\u001b[0m\u001b[0;34m,\u001b[0m \u001b[0mInvalidOperation\u001b[0m\u001b[0;34m)\u001b[0m\u001b[0;34m:\u001b[0m\u001b[0;34m\u001b[0m\u001b[0;34m\u001b[0m\u001b[0m\n\u001b[1;32m   1605\u001b[0m             \u001b[0;31m# Sessions not supported.\u001b[0m\u001b[0;34m\u001b[0m\u001b[0;34m\u001b[0m\u001b[0;34m\u001b[0m\u001b[0m\n",
      "\u001b[0;32m/home/er-royalprince/snap/jupyter/common/lib/python3.7/site-packages/pymongo/mongo_client.py\u001b[0m in \u001b[0;36m__start_session\u001b[0;34m(self, implicit, **kwargs)\u001b[0m\n\u001b[1;32m   1551\u001b[0m     \u001b[0;32mdef\u001b[0m \u001b[0m__start_session\u001b[0m\u001b[0;34m(\u001b[0m\u001b[0mself\u001b[0m\u001b[0;34m,\u001b[0m \u001b[0mimplicit\u001b[0m\u001b[0;34m,\u001b[0m \u001b[0;34m**\u001b[0m\u001b[0mkwargs\u001b[0m\u001b[0;34m)\u001b[0m\u001b[0;34m:\u001b[0m\u001b[0;34m\u001b[0m\u001b[0;34m\u001b[0m\u001b[0m\n\u001b[1;32m   1552\u001b[0m         \u001b[0;31m# Raises ConfigurationError if sessions are not supported.\u001b[0m\u001b[0;34m\u001b[0m\u001b[0;34m\u001b[0m\u001b[0;34m\u001b[0m\u001b[0m\n\u001b[0;32m-> 1553\u001b[0;31m         \u001b[0mserver_session\u001b[0m \u001b[0;34m=\u001b[0m \u001b[0mself\u001b[0m\u001b[0;34m.\u001b[0m\u001b[0m_get_server_session\u001b[0m\u001b[0;34m(\u001b[0m\u001b[0;34m)\u001b[0m\u001b[0;34m\u001b[0m\u001b[0;34m\u001b[0m\u001b[0m\n\u001b[0m\u001b[1;32m   1554\u001b[0m         \u001b[0mopts\u001b[0m \u001b[0;34m=\u001b[0m \u001b[0mclient_session\u001b[0m\u001b[0;34m.\u001b[0m\u001b[0mSessionOptions\u001b[0m\u001b[0;34m(\u001b[0m\u001b[0;34m**\u001b[0m\u001b[0mkwargs\u001b[0m\u001b[0;34m)\u001b[0m\u001b[0;34m\u001b[0m\u001b[0;34m\u001b[0m\u001b[0m\n\u001b[1;32m   1555\u001b[0m         return client_session.ClientSession(\n",
      "\u001b[0;32m/home/er-royalprince/snap/jupyter/common/lib/python3.7/site-packages/pymongo/mongo_client.py\u001b[0m in \u001b[0;36m_get_server_session\u001b[0;34m(self)\u001b[0m\n\u001b[1;32m   1587\u001b[0m     \u001b[0;32mdef\u001b[0m \u001b[0m_get_server_session\u001b[0m\u001b[0;34m(\u001b[0m\u001b[0mself\u001b[0m\u001b[0;34m)\u001b[0m\u001b[0;34m:\u001b[0m\u001b[0;34m\u001b[0m\u001b[0;34m\u001b[0m\u001b[0m\n\u001b[1;32m   1588\u001b[0m         \u001b[0;34m\"\"\"Internal: start or resume a _ServerSession.\"\"\"\u001b[0m\u001b[0;34m\u001b[0m\u001b[0;34m\u001b[0m\u001b[0m\n\u001b[0;32m-> 1589\u001b[0;31m         \u001b[0;32mreturn\u001b[0m \u001b[0mself\u001b[0m\u001b[0;34m.\u001b[0m\u001b[0m_topology\u001b[0m\u001b[0;34m.\u001b[0m\u001b[0mget_server_session\u001b[0m\u001b[0;34m(\u001b[0m\u001b[0;34m)\u001b[0m\u001b[0;34m\u001b[0m\u001b[0;34m\u001b[0m\u001b[0m\n\u001b[0m\u001b[1;32m   1590\u001b[0m \u001b[0;34m\u001b[0m\u001b[0m\n\u001b[1;32m   1591\u001b[0m     \u001b[0;32mdef\u001b[0m \u001b[0m_return_server_session\u001b[0m\u001b[0;34m(\u001b[0m\u001b[0mself\u001b[0m\u001b[0;34m,\u001b[0m \u001b[0mserver_session\u001b[0m\u001b[0;34m,\u001b[0m \u001b[0mlock\u001b[0m\u001b[0;34m)\u001b[0m\u001b[0;34m:\u001b[0m\u001b[0;34m\u001b[0m\u001b[0;34m\u001b[0m\u001b[0m\n",
      "\u001b[0;32m/home/er-royalprince/snap/jupyter/common/lib/python3.7/site-packages/pymongo/topology.py\u001b[0m in \u001b[0;36mget_server_session\u001b[0;34m(self)\u001b[0m\n\u001b[1;32m    528\u001b[0m             \u001b[0;31m# Sessions are always supported in load balanced mode.\u001b[0m\u001b[0;34m\u001b[0m\u001b[0;34m\u001b[0m\u001b[0;34m\u001b[0m\u001b[0m\n\u001b[1;32m    529\u001b[0m             \u001b[0;32mif\u001b[0m \u001b[0;32mnot\u001b[0m \u001b[0mself\u001b[0m\u001b[0;34m.\u001b[0m\u001b[0m_settings\u001b[0m\u001b[0;34m.\u001b[0m\u001b[0mload_balanced\u001b[0m\u001b[0;34m:\u001b[0m\u001b[0;34m\u001b[0m\u001b[0;34m\u001b[0m\u001b[0m\n\u001b[0;32m--> 530\u001b[0;31m                 \u001b[0msession_timeout\u001b[0m \u001b[0;34m=\u001b[0m \u001b[0mself\u001b[0m\u001b[0;34m.\u001b[0m\u001b[0m_check_session_support\u001b[0m\u001b[0;34m(\u001b[0m\u001b[0;34m)\u001b[0m\u001b[0;34m\u001b[0m\u001b[0;34m\u001b[0m\u001b[0m\n\u001b[0m\u001b[1;32m    531\u001b[0m             \u001b[0;32melse\u001b[0m\u001b[0;34m:\u001b[0m\u001b[0;34m\u001b[0m\u001b[0;34m\u001b[0m\u001b[0m\n\u001b[1;32m    532\u001b[0m                 \u001b[0;31m# Sessions never time out in load balanced mode.\u001b[0m\u001b[0;34m\u001b[0m\u001b[0;34m\u001b[0m\u001b[0;34m\u001b[0m\u001b[0m\n",
      "\u001b[0;32m/home/er-royalprince/snap/jupyter/common/lib/python3.7/site-packages/pymongo/topology.py\u001b[0m in \u001b[0;36m_check_session_support\u001b[0;34m(self)\u001b[0m\n\u001b[1;32m    515\u001b[0m                     \u001b[0mreadable_server_selector\u001b[0m\u001b[0;34m,\u001b[0m\u001b[0;34m\u001b[0m\u001b[0;34m\u001b[0m\u001b[0m\n\u001b[1;32m    516\u001b[0m                     \u001b[0mself\u001b[0m\u001b[0;34m.\u001b[0m\u001b[0m_settings\u001b[0m\u001b[0;34m.\u001b[0m\u001b[0mserver_selection_timeout\u001b[0m\u001b[0;34m,\u001b[0m\u001b[0;34m\u001b[0m\u001b[0;34m\u001b[0m\u001b[0m\n\u001b[0;32m--> 517\u001b[0;31m                     None)\n\u001b[0m\u001b[1;32m    518\u001b[0m \u001b[0;34m\u001b[0m\u001b[0m\n\u001b[1;32m    519\u001b[0m             \u001b[0msession_timeout\u001b[0m \u001b[0;34m=\u001b[0m \u001b[0mself\u001b[0m\u001b[0;34m.\u001b[0m\u001b[0m_description\u001b[0m\u001b[0;34m.\u001b[0m\u001b[0mlogical_session_timeout_minutes\u001b[0m\u001b[0;34m\u001b[0m\u001b[0;34m\u001b[0m\u001b[0m\n",
      "\u001b[0;32m/home/er-royalprince/snap/jupyter/common/lib/python3.7/site-packages/pymongo/topology.py\u001b[0m in \u001b[0;36m_select_servers_loop\u001b[0;34m(self, selector, timeout, address)\u001b[0m\n\u001b[1;32m    216\u001b[0m                 raise ServerSelectionTimeoutError(\n\u001b[1;32m    217\u001b[0m                     \u001b[0;34m\"%s, Timeout: %ss, Topology Description: %r\"\u001b[0m \u001b[0;34m%\u001b[0m\u001b[0;34m\u001b[0m\u001b[0;34m\u001b[0m\u001b[0m\n\u001b[0;32m--> 218\u001b[0;31m                     (self._error_message(selector), timeout, self.description))\n\u001b[0m\u001b[1;32m    219\u001b[0m \u001b[0;34m\u001b[0m\u001b[0m\n\u001b[1;32m    220\u001b[0m             \u001b[0mself\u001b[0m\u001b[0;34m.\u001b[0m\u001b[0m_ensure_opened\u001b[0m\u001b[0;34m(\u001b[0m\u001b[0;34m)\u001b[0m\u001b[0;34m\u001b[0m\u001b[0;34m\u001b[0m\u001b[0m\n",
      "\u001b[0;31mServerSelectionTimeoutError\u001b[0m: cluster0-shard-00-00.zk5oz.mongodb.net:27017: [Errno -3] Temporary failure in name resolution,cluster0-shard-00-01.zk5oz.mongodb.net:27017: [SSL: CERTIFICATE_VERIFY_FAILED] certificate verify failed: unable to get local issuer certificate (_ssl.c:1056),cluster0-shard-00-02.zk5oz.mongodb.net:27017: [SSL: CERTIFICATE_VERIFY_FAILED] certificate verify failed: unable to get local issuer certificate (_ssl.c:1056), Timeout: 30s, Topology Description: <TopologyDescription id: 62239fea17fc227f010c60c8, topology_type: ReplicaSetNoPrimary, servers: [<ServerDescription ('cluster0-shard-00-00.zk5oz.mongodb.net', 27017) server_type: Unknown, rtt: None, error=AutoReconnect('cluster0-shard-00-00.zk5oz.mongodb.net:27017: [Errno -3] Temporary failure in name resolution')>, <ServerDescription ('cluster0-shard-00-01.zk5oz.mongodb.net', 27017) server_type: Unknown, rtt: None, error=AutoReconnect('cluster0-shard-00-01.zk5oz.mongodb.net:27017: [SSL: CERTIFICATE_VERIFY_FAILED] certificate verify failed: unable to get local issuer certificate (_ssl.c:1056)')>, <ServerDescription ('cluster0-shard-00-02.zk5oz.mongodb.net', 27017) server_type: Unknown, rtt: None, error=AutoReconnect('cluster0-shard-00-02.zk5oz.mongodb.net:27017: [SSL: CERTIFICATE_VERIFY_FAILED] certificate verify failed: unable to get local issuer certificate (_ssl.c:1056)')>]>"
     ]
    }
   ],
   "source": [
    "import pymongo\n",
    "client_cloud = pymongo.MongoClient(\"mongodb+srv://test:<password>@cluster0.zk5oz.mongodb.net/myFirstDatabase?retryWrites=true&w=majority\")\n",
    "db = client_cloud[\"prince_kumar\"]\n",
    "collection = db['test']\n",
    "record = {'name':\"Prince\",\n",
    "         'age':'12',\n",
    "         'address':'Himachal Pradesh',\n",
    "         'words':[\"abc\",123,'!@#$'],\n",
    "         'record':{\"name\":\"prince\",\"email_id\":\"codewithearth@gmail.com\",\n",
    "                  \"phone_number\":8475912647}}\n",
    "collection.insert_one(record)"
   ]
  },
  {
   "cell_type": "code",
   "execution_count": 30,
   "metadata": {},
   "outputs": [],
   "source": [
    "list_of_records = [{\"name\":\"prince\",\n",
    "                    'age':25,'Ph number':8574658556635\n",
    "                    },\n",
    "                  {\"name\":\"prince\",\n",
    "                    'age':25,'Ph number':8574658556635\n",
    "                  },\n",
    "                   {\"name\":\"prince\",\n",
    "                    'age':25,'Ph number':8574658556635\n",
    "                  },\n",
    "                   {'Name':'m name is Prince',\n",
    "                   'age':'my age is 25',\n",
    "                   'ph number':\"my phone number is 8457921623\",\n",
    "                    'complex':[{'name':'prince','lsit':[1,5,463,5,54,65,36,35]},{\"email_id\":\"codewithearth@gmail.com\"},{'ph number':54163523.523},[4,54,64,16,41,634,6,34,64,1]]\n",
    "                   }\n",
    "                  ]\n",
    "rec = collection.insert_many(list_of_records)"
   ]
  },
  {
   "cell_type": "code",
   "execution_count": 32,
   "metadata": {},
   "outputs": [
    {
     "name": "stdout",
     "output_type": "stream",
     "text": [
      "0. 6223a4af17fc227f010c60dc\n",
      "1. 6223a4af17fc227f010c60dd\n",
      "2. 6223a4af17fc227f010c60de\n",
      "3. 6223a4af17fc227f010c60df\n"
     ]
    }
   ],
   "source": [
    "# Lets print the unique ID that of the record that we have inserted - \n",
    "inserted_IDs = rec.inserted_ids\n",
    "\n",
    "for idx,unique_ids in enumerate(inserted_IDs):\n",
    "    print(f\"{idx}. {unique_ids}\")"
   ]
  },
  {
   "cell_type": "code",
   "execution_count": 33,
   "metadata": {},
   "outputs": [],
   "source": [
    "collection_name = \"test_2\"\n",
    "test1 = db_1[collection_name]\n",
    "\n",
    "list_of_records1 = [\n",
    "    {\n",
    "        'name':\"prince\",\n",
    "        \"address\":\"himachal\"\n",
    "    },\n",
    "    {\n",
    "        \"name\":\"king\",\n",
    "        \"address\":\"India\"\n",
    "    }\n",
    "]\n",
    "\n",
    "rec1 = test1.insert_many(list_of_records1)"
   ]
  },
  {
   "cell_type": "code",
   "execution_count": 34,
   "metadata": {},
   "outputs": [
    {
     "name": "stdout",
     "output_type": "stream",
     "text": [
      "0. 6223a67917fc227f010c60e0\n",
      "1. 6223a67917fc227f010c60e1\n"
     ]
    }
   ],
   "source": [
    "inserted_ids = rec1.inserted_ids\n",
    "\n",
    "for indx,unqids in enumerate(inserted_ids):\n",
    "    print(f'{indx}. {unqids}')"
   ]
  },
  {
   "cell_type": "code",
   "execution_count": 69,
   "metadata": {},
   "outputs": [
    {
     "data": {
      "text/plain": [
       "<pymongo.results.InsertManyResult at 0x7f1c32ab94c8>"
      ]
     },
     "execution_count": 69,
     "metadata": {},
     "output_type": "execute_result"
    }
   ],
   "source": [
    "collection_name = \"test_2\"\n",
    "test1 = db_1[collection_name]\n",
    "\n",
    "list_of_records1 = [\n",
    "    {\n",
    "        \"_id\":\"1\",\n",
    "        'name':\"prince\",\n",
    "        \"address\":\"himachal\"\n",
    "    },\n",
    "    {\n",
    "        \"_id\":\"2\",\n",
    "        \"name\":\"king\",\n",
    "        \"address\":\"India\"\n",
    "    }\n",
    "]\n",
    "\n",
    "test1.insert_many(list_of_records1)"
   ]
  },
  {
   "cell_type": "code",
   "execution_count": 40,
   "metadata": {},
   "outputs": [
    {
     "name": "stdout",
     "output_type": "stream",
     "text": [
      "The first record of collection: \n",
      " test_2 is=\n",
      "{'_id': ObjectId('6223a67917fc227f010c60e0'), 'name': 'prince', 'address': 'himachal'}\n"
     ]
    }
   ],
   "source": [
    "find_first_record = test1.find_one()\n",
    "\n",
    "print(f'The first record of collection: \\n {collection_name} is=\\\n",
    "\\n{find_first_record}')"
   ]
  },
  {
   "cell_type": "code",
   "execution_count": 41,
   "metadata": {},
   "outputs": [
    {
     "data": {
      "text/plain": [
       "{'_id': ObjectId('6223a67917fc227f010c60e0'),\n",
       " 'name': 'prince',\n",
       " 'address': 'himachal'}"
      ]
     },
     "execution_count": 41,
     "metadata": {},
     "output_type": "execute_result"
    }
   ],
   "source": [
    "test1.find_one()"
   ]
  },
  {
   "cell_type": "code",
   "execution_count": 42,
   "metadata": {},
   "outputs": [
    {
     "data": {
      "text/plain": [
       "{'_id': ObjectId('62239a9017fc227f010c60be'),\n",
       " 'name': 'Prince',\n",
       " 'age': '12',\n",
       " 'address': 'Himachal Pradesh'}"
      ]
     },
     "execution_count": 42,
     "metadata": {},
     "output_type": "execute_result"
    }
   ],
   "source": [
    "collection.find_one()"
   ]
  },
  {
   "cell_type": "code",
   "execution_count": 44,
   "metadata": {},
   "outputs": [
    {
     "data": {
      "text/plain": [
       "<pymongo.cursor.Cursor at 0x7f1c540bab70>"
      ]
     },
     "execution_count": 44,
     "metadata": {},
     "output_type": "execute_result"
    }
   ],
   "source": [
    "test1.find()"
   ]
  },
  {
   "cell_type": "code",
   "execution_count": 45,
   "metadata": {},
   "outputs": [
    {
     "name": "stdout",
     "output_type": "stream",
     "text": [
      "{'_id': ObjectId('6223a67917fc227f010c60e0'), 'name': 'prince', 'address': 'himachal'}\n",
      "{'_id': ObjectId('6223a67917fc227f010c60e1'), 'name': 'king', 'address': 'India'}\n",
      "{'_id': '1', 'name': 'prince', 'address': 'himachal'}\n",
      "{'_id': '2', 'name': 'king', 'address': 'India'}\n",
      "{'_id': '01', 'name': 'prince', 'address': 'himachal'}\n",
      "{'_id': '02', 'name': 'king', 'address': 'India'}\n"
     ]
    }
   ],
   "source": [
    "for i in test1.find():\n",
    "    print(i)"
   ]
  },
  {
   "cell_type": "code",
   "execution_count": 46,
   "metadata": {},
   "outputs": [
    {
     "name": "stdout",
     "output_type": "stream",
     "text": [
      "{'_id': ObjectId('62239a9017fc227f010c60be'), 'name': 'Prince', 'age': '12', 'address': 'Himachal Pradesh'}\n",
      "{'_id': ObjectId('62239afd17fc227f010c60bf'), 'name': 'Prince', 'age': '12', 'address': 'Himachal Pradesh'}\n",
      "{'_id': ObjectId('62239b0017fc227f010c60c0'), 'name': 'Prince', 'age': '12', 'address': 'Himachal Pradesh'}\n",
      "{'_id': ObjectId('62239b0117fc227f010c60c1'), 'name': 'Prince', 'age': '12', 'address': 'Himachal Pradesh'}\n",
      "{'_id': ObjectId('62239bc617fc227f010c60c4'), 'name': 'Prince', 'age': '12', 'address': 'Himachal Pradesh', 'words': ['abc', 123, '!@#$']}\n",
      "{'_id': ObjectId('62239c5a17fc227f010c60c5'), 'name': 'Prince', 'age': '12', 'address': 'Himachal Pradesh', 'words': ['abc', 123, '!@#$'], 'record': {'name': 'prince', 'email_id': 'codewithearth@gmail.com', 'phone_number': 8475912647}}\n",
      "{'_id': ObjectId('62239f9217fc227f010c60c7'), 'name': 'Prince', 'age': '12', 'address': 'Himachal Pradesh', 'words': ['abc', 123, '!@#$'], 'record': {'name': 'prince', 'email_id': 'codewithearth@gmail.com', 'phone_number': 8475912647}}\n",
      "{'_id': ObjectId('6223a0b017fc227f010c60cb'), 'name': 'Prince', 'age': '12', 'address': 'Himachal Pradesh', 'words': ['abc', 123, '!@#$'], 'record': {'name': 'prince', 'email_id': 'codewithearth@gmail.com', 'phone_number': 8475912647}}\n",
      "{'_id': ObjectId('6223a18c17fc227f010c60cc'), 'name': 'prince', 'age': 25, 'Ph number': 8574658556635}\n",
      "{'_id': ObjectId('6223a18c17fc227f010c60cd'), 'name': 'prince', 'age': 25, 'Ph number': 8574658556635}\n",
      "{'_id': ObjectId('6223a18c17fc227f010c60ce'), 'name': 'prince', 'age': 25, 'Ph number': 8574658556635}\n",
      "{'_id': ObjectId('6223a18c17fc227f010c60cf'), 'Name': 'm name is Prince', 'age': 'my age is 25', 'ph number': 'my phone number is 8457921623'}\n",
      "{'_id': ObjectId('6223a25e17fc227f010c60d0'), 'name': 'prince', 'age': 25, 'Ph number': 8574658556635}\n",
      "{'_id': ObjectId('6223a25e17fc227f010c60d1'), 'name': 'prince', 'age': 25, 'Ph number': 8574658556635}\n",
      "{'_id': ObjectId('6223a25e17fc227f010c60d2'), 'name': 'prince', 'age': 25, 'Ph number': 8574658556635}\n",
      "{'_id': ObjectId('6223a25e17fc227f010c60d3'), 'Name': 'm name is Prince', 'age': 'my age is 25', 'ph number': 'my phone number is 8457921623', 'complex': [{'name': 'prince'}, {'email_id': 'codewithearth@gmail.com'}, {'ph number': 54163523.523}, [4, 54, 64, 16, 41, 634, 6, 34, 64, 1]]}\n",
      "{'_id': ObjectId('6223a29e17fc227f010c60d4'), 'name': 'prince', 'age': 25, 'Ph number': 8574658556635}\n",
      "{'_id': ObjectId('6223a29e17fc227f010c60d5'), 'name': 'prince', 'age': 25, 'Ph number': 8574658556635}\n",
      "{'_id': ObjectId('6223a29e17fc227f010c60d6'), 'name': 'prince', 'age': 25, 'Ph number': 8574658556635}\n",
      "{'_id': ObjectId('6223a29e17fc227f010c60d7'), 'Name': 'm name is Prince', 'age': 'my age is 25', 'ph number': 'my phone number is 8457921623', 'complex': [{'name': 'prince', 'lsit': [1, 5, 463, 5, 54, 65, 36, 35]}, {'email_id': 'codewithearth@gmail.com'}, {'ph number': 54163523.523}, [4, 54, 64, 16, 41, 634, 6, 34, 64, 1]]}\n",
      "{'_id': ObjectId('6223a2b217fc227f010c60d8'), 'name': 'prince', 'age': 25, 'Ph number': 8574658556635}\n",
      "{'_id': ObjectId('6223a2b217fc227f010c60d9'), 'name': 'prince', 'age': 25, 'Ph number': 8574658556635}\n",
      "{'_id': ObjectId('6223a2b217fc227f010c60da'), 'name': 'prince', 'age': 25, 'Ph number': 8574658556635}\n",
      "{'_id': ObjectId('6223a2b217fc227f010c60db'), 'Name': 'm name is Prince', 'age': 'my age is 25', 'ph number': 'my phone number is 8457921623', 'complex': [{'name': 'prince', 'lsit': [1, 5, 463, 5, 54, 65, 36, 35]}, {'email_id': 'codewithearth@gmail.com'}, {'ph number': 54163523.523}, [4, 54, 64, 16, 41, 634, 6, 34, 64, 1]]}\n",
      "{'_id': ObjectId('6223a4af17fc227f010c60dc'), 'name': 'prince', 'age': 25, 'Ph number': 8574658556635}\n",
      "{'_id': ObjectId('6223a4af17fc227f010c60dd'), 'name': 'prince', 'age': 25, 'Ph number': 8574658556635}\n",
      "{'_id': ObjectId('6223a4af17fc227f010c60de'), 'name': 'prince', 'age': 25, 'Ph number': 8574658556635}\n",
      "{'_id': ObjectId('6223a4af17fc227f010c60df'), 'Name': 'm name is Prince', 'age': 'my age is 25', 'ph number': 'my phone number is 8457921623', 'complex': [{'name': 'prince', 'lsit': [1, 5, 463, 5, 54, 65, 36, 35]}, {'email_id': 'codewithearth@gmail.com'}, {'ph number': 54163523.523}, [4, 54, 64, 16, 41, 634, 6, 34, 64, 1]]}\n"
     ]
    }
   ],
   "source": [
    "for i in collection.find():\n",
    "    print(i)"
   ]
  },
  {
   "cell_type": "code",
   "execution_count": 47,
   "metadata": {},
   "outputs": [
    {
     "name": "stdout",
     "output_type": "stream",
     "text": [
      "{'_id': '1', 'name': 'prince', 'address': 'himachal'}\n"
     ]
    }
   ],
   "source": [
    "query1 = {'_id':'1'}\n",
    "\n",
    "results = test1.find(query1)\n",
    "for data in results:\n",
    "    print(data)"
   ]
  },
  {
   "cell_type": "code",
   "execution_count": 50,
   "metadata": {},
   "outputs": [
    {
     "name": "stdout",
     "output_type": "stream",
     "text": [
      "{'_id': '01', 'name': 'prince', 'address': 'himachal'}\n"
     ]
    }
   ],
   "source": [
    "for i in test1.find({\"_id\":\"01\"}):\n",
    "    print(i)"
   ]
  },
  {
   "cell_type": "code",
   "execution_count": 51,
   "metadata": {},
   "outputs": [],
   "source": [
    "for i in test1.find({\"_id\":\"452521\"}):\n",
    "    print(i)"
   ]
  },
  {
   "cell_type": "code",
   "execution_count": 52,
   "metadata": {},
   "outputs": [],
   "source": [
    "for i in test1.find({\"4154164\":\"01\"}):\n",
    "    print(i)"
   ]
  },
  {
   "cell_type": "code",
   "execution_count": 54,
   "metadata": {},
   "outputs": [
    {
     "name": "stdout",
     "output_type": "stream",
     "text": [
      "{'_id': ObjectId('6223a18c17fc227f010c60cc'), 'name': 'prince', 'age': 25, 'Ph number': 8574658556635}\n",
      "{'_id': ObjectId('6223a18c17fc227f010c60cd'), 'name': 'prince', 'age': 25, 'Ph number': 8574658556635}\n",
      "{'_id': ObjectId('6223a18c17fc227f010c60ce'), 'name': 'prince', 'age': 25, 'Ph number': 8574658556635}\n",
      "{'_id': ObjectId('6223a25e17fc227f010c60d0'), 'name': 'prince', 'age': 25, 'Ph number': 8574658556635}\n",
      "{'_id': ObjectId('6223a25e17fc227f010c60d1'), 'name': 'prince', 'age': 25, 'Ph number': 8574658556635}\n",
      "{'_id': ObjectId('6223a25e17fc227f010c60d2'), 'name': 'prince', 'age': 25, 'Ph number': 8574658556635}\n",
      "{'_id': ObjectId('6223a29e17fc227f010c60d4'), 'name': 'prince', 'age': 25, 'Ph number': 8574658556635}\n",
      "{'_id': ObjectId('6223a29e17fc227f010c60d5'), 'name': 'prince', 'age': 25, 'Ph number': 8574658556635}\n",
      "{'_id': ObjectId('6223a29e17fc227f010c60d6'), 'name': 'prince', 'age': 25, 'Ph number': 8574658556635}\n",
      "{'_id': ObjectId('6223a2b217fc227f010c60d8'), 'name': 'prince', 'age': 25, 'Ph number': 8574658556635}\n",
      "{'_id': ObjectId('6223a2b217fc227f010c60d9'), 'name': 'prince', 'age': 25, 'Ph number': 8574658556635}\n",
      "{'_id': ObjectId('6223a2b217fc227f010c60da'), 'name': 'prince', 'age': 25, 'Ph number': 8574658556635}\n",
      "{'_id': ObjectId('6223a4af17fc227f010c60dc'), 'name': 'prince', 'age': 25, 'Ph number': 8574658556635}\n",
      "{'_id': ObjectId('6223a4af17fc227f010c60dd'), 'name': 'prince', 'age': 25, 'Ph number': 8574658556635}\n",
      "{'_id': ObjectId('6223a4af17fc227f010c60de'), 'name': 'prince', 'age': 25, 'Ph number': 8574658556635}\n"
     ]
    }
   ],
   "source": [
    "for i in collection.find({\"name\":\"prince\"}):\n",
    "    print(i)"
   ]
  },
  {
   "cell_type": "code",
   "execution_count": 70,
   "metadata": {},
   "outputs": [
    {
     "name": "stdout",
     "output_type": "stream",
     "text": [
      "{'_id': '02', 'name': 'king', 'address': 'India'}\n",
      "{'_id': '1', 'name': 'prince', 'address': 'himachal'}\n",
      "{'_id': '2', 'name': 'king', 'address': 'India'}\n"
     ]
    }
   ],
   "source": [
    "for i in test1.find({'_id':{'$gt':'01'}}):\n",
    "    print(i)"
   ]
  },
  {
   "cell_type": "code",
   "execution_count": 71,
   "metadata": {},
   "outputs": [
    {
     "data": {
      "text/plain": [
       "<pymongo.results.DeleteResult at 0x7f1c326e6e88>"
      ]
     },
     "execution_count": 71,
     "metadata": {},
     "output_type": "execute_result"
    }
   ],
   "source": [
    "# lets delete many document in faculities\n",
    "query_to_delete = {'name':\"king\"}\n",
    "\n",
    "test1.delete_many(query_to_delete)"
   ]
  },
  {
   "cell_type": "code",
   "execution_count": 72,
   "metadata": {},
   "outputs": [
    {
     "name": "stdout",
     "output_type": "stream",
     "text": [
      "{'_id': '1', 'name': 'prince', 'address': 'himachal'}\n"
     ]
    }
   ],
   "source": [
    "for i in test1.find({'_id':{'$gt':'01'}}):\n",
    "    print(i)"
   ]
  },
  {
   "cell_type": "code",
   "execution_count": 73,
   "metadata": {},
   "outputs": [
    {
     "data": {
      "text/plain": [
       "<pymongo.results.DeleteResult at 0x7f1c32760288>"
      ]
     },
     "execution_count": 73,
     "metadata": {},
     "output_type": "execute_result"
    }
   ],
   "source": [
    "# lets delete one document in faculities\n",
    "query_to_delete = {'name':\"prince\"}\n",
    "\n",
    "test1.delete_one(query_to_delete)"
   ]
  },
  {
   "cell_type": "code",
   "execution_count": null,
   "metadata": {},
   "outputs": [],
   "source": []
  }
 ],
 "metadata": {
  "kernelspec": {
   "display_name": "Python 3",
   "language": "python",
   "name": "python3"
  },
  "language_info": {
   "codemirror_mode": {
    "name": "ipython",
    "version": 3
   },
   "file_extension": ".py",
   "mimetype": "text/x-python",
   "name": "python",
   "nbconvert_exporter": "python",
   "pygments_lexer": "ipython3",
   "version": "3.7.3"
  }
 },
 "nbformat": 4,
 "nbformat_minor": 2
}
