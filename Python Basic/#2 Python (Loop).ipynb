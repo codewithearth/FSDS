{
 "cells": [
  {
   "cell_type": "code",
   "execution_count": 1,
   "metadata": {},
   "outputs": [
    {
     "name": "stdout",
     "output_type": "stream",
     "text": [
      "this is a valid statement \n"
     ]
    }
   ],
   "source": [
    "a = 10\n",
    "b = 20\n",
    "if a == 10 and b == 20:\n",
    "    print(\"this is a valid statement \")"
   ]
  },
  {
   "cell_type": "code",
   "execution_count": 2,
   "metadata": {},
   "outputs": [
    {
     "data": {
      "text/plain": [
       "True"
      ]
     },
     "execution_count": 2,
     "metadata": {},
     "output_type": "execute_result"
    }
   ],
   "source": [
    "a == 10 and b == 20"
   ]
  },
  {
   "cell_type": "code",
   "execution_count": 3,
   "metadata": {},
   "outputs": [
    {
     "data": {
      "text/plain": [
       "True"
      ]
     },
     "execution_count": 3,
     "metadata": {},
     "output_type": "execute_result"
    }
   ],
   "source": [
    "b == 20"
   ]
  },
  {
   "cell_type": "code",
   "execution_count": 5,
   "metadata": {},
   "outputs": [
    {
     "data": {
      "text/plain": [
       "False"
      ]
     },
     "execution_count": 5,
     "metadata": {},
     "output_type": "execute_result"
    }
   ],
   "source": [
    "a == 10 and b > 20"
   ]
  },
  {
   "cell_type": "code",
   "execution_count": 6,
   "metadata": {},
   "outputs": [
    {
     "name": "stdout",
     "output_type": "stream",
     "text": [
      "condition is not valid \n"
     ]
    }
   ],
   "source": [
    "a = 10\n",
    "b = 20\n",
    "if a == 10 and b > 20:\n",
    "    print(\"this is a valid statement \")\n",
    "else:\n",
    "    print('condition is not valid ')"
   ]
  },
  {
   "cell_type": "code",
   "execution_count": 8,
   "metadata": {},
   "outputs": [
    {
     "name": "stdout",
     "output_type": "stream",
     "text": [
      "this statement is valid inside elif \n"
     ]
    }
   ],
   "source": [
    "a = 10\n",
    "b = 20\n",
    "if a == 10 and b > 20:\n",
    "    print(\"this is a valid statement \")\n",
    "elif a == 10 and b <= 20:\n",
    "    print(\"this statement is valid inside elif \")\n",
    "else:\n",
    "    print('condition is not valid ')"
   ]
  },
  {
   "cell_type": "code",
   "execution_count": 9,
   "metadata": {},
   "outputs": [
    {
     "name": "stdout",
     "output_type": "stream",
     "text": [
      "this is a valid statement \n"
     ]
    }
   ],
   "source": [
    "a = 10\n",
    "b = 20\n",
    "if a == 10 or b > 20:\n",
    "    print(\"this is a valid statement \")\n",
    "elif a == 10 and b <= 20:\n",
    "    print(\"this statement is valid inside elif \")\n",
    "else:\n",
    "    print('condition is not valid ')"
   ]
  },
  {
   "cell_type": "markdown",
   "metadata": {},
   "source": [
    "# Q) take a input from your keyboard as your first name and last name and then try to validate of write multiple condition by yourself:"
   ]
  },
  {
   "cell_type": "code",
   "execution_count": 13,
   "metadata": {},
   "outputs": [
    {
     "name": "stdout",
     "output_type": "stream",
     "text": [
      "Enter your name: prince\n",
      "Welcome Owner!\n"
     ]
    }
   ],
   "source": [
    "name = input(\"Enter your name: \")\n",
    "if name == \"prince\":\n",
    "    print(\"Welcome Owner!\")\n",
    "else:\n",
    "    print(\"you are enter invalid name\")"
   ]
  },
  {
   "cell_type": "code",
   "execution_count": 15,
   "metadata": {},
   "outputs": [
    {
     "name": "stdout",
     "output_type": "stream",
     "text": [
      "this is valid\n"
     ]
    }
   ],
   "source": [
    "if a == 10: print(\"this is valid\")"
   ]
  },
  {
   "cell_type": "code",
   "execution_count": 17,
   "metadata": {},
   "outputs": [
    {
     "name": "stdout",
     "output_type": "stream",
     "text": [
      "this is my speed  1\n",
      "this is my speed  2\n",
      "this is my speed  3\n",
      "this is my speed  4\n",
      "this is my speed  5\n",
      "this is my speed  6\n",
      "this is my speed  7\n",
      "this is my speed  8\n",
      "this is my speed  9\n",
      "this is my speed  10\n",
      "this is my speed  11\n",
      "this is my speed  12\n",
      "this is my speed  13\n",
      "this is my speed  14\n",
      "this is my speed  15\n",
      "this is my speed  16\n",
      "this is my speed  17\n",
      "this is my speed  18\n",
      "this is my speed  19\n",
      "this is my speed  20\n",
      "this is my speed  21\n",
      "this is my speed  22\n",
      "this is my speed  23\n",
      "this is my speed  24\n",
      "this is my speed  25\n",
      "this is my speed  26\n",
      "this is my speed  27\n",
      "this is my speed  28\n",
      "this is my speed  29\n",
      "this is my speed  30\n",
      "this is my speed  31\n",
      "this is my speed  32\n",
      "this is my speed  33\n",
      "this is my speed  34\n",
      "this is my speed  35\n",
      "this is my speed  36\n",
      "this is my speed  37\n",
      "this is my speed  38\n",
      "this is my speed  39\n",
      "this is my speed  40\n",
      "this is my speed  41\n",
      "this is my speed  42\n",
      "this is my speed  43\n",
      "this is my speed  44\n",
      "this is my speed  45\n",
      "this is my speed  46\n",
      "this is my speed  47\n",
      "this is my speed  48\n",
      "this is my speed  49\n",
      "this is my speed  50\n",
      "this is my speed  51\n",
      "this is my speed  52\n",
      "this is my speed  53\n",
      "this is my speed  54\n",
      "this is my speed  55\n",
      "this is my speed  56\n",
      "this is my speed  57\n",
      "this is my speed  58\n",
      "this is my speed  59\n",
      "this is my speed  60\n",
      "this is my speed  61\n",
      "this is my speed  62\n",
      "this is my speed  63\n",
      "this is my speed  64\n",
      "this is my speed  65\n",
      "this is my speed  66\n",
      "this is my speed  67\n",
      "this is my speed  68\n",
      "this is my speed  69\n",
      "this is my speed  70\n",
      "this is my speed  71\n",
      "this is my speed  72\n",
      "this is my speed  73\n",
      "this is my speed  74\n",
      "this is my speed  75\n",
      "this is my speed  76\n",
      "this is my speed  77\n",
      "this is my speed  78\n",
      "this is my speed  79\n",
      "this is my speed  80\n",
      "this is my speed  81\n",
      "this is my speed  82\n",
      "this is my speed  83\n",
      "this is my speed  84\n",
      "this is my speed  85\n",
      "this is my speed  86\n",
      "this is my speed  87\n",
      "this is my speed  88\n",
      "this is my speed  89\n",
      "this is my speed  90\n",
      "this is my speed  91\n",
      "this is my speed  92\n",
      "this is my speed  93\n",
      "this is my speed  94\n",
      "this is my speed  95\n",
      "this is my speed  96\n",
      "this is my speed  97\n",
      "this is my speed  98\n",
      "this is my speed  99\n",
      "this is my speed  100\n"
     ]
    }
   ],
   "source": [
    "initial_speed = 0\n",
    "final_speed = 100\n",
    "count = 1\n",
    "while initial_speed <= final_speed:\n",
    "    print(\"this is my speed \",count)\n",
    "    count = count + 1\n",
    "    if count == 101:\n",
    "        break\n",
    "    "
   ]
  },
  {
   "cell_type": "code",
   "execution_count": 18,
   "metadata": {},
   "outputs": [
    {
     "name": "stdout",
     "output_type": "stream",
     "text": [
      "1\n",
      "2\n",
      "3\n",
      "4\n"
     ]
    }
   ],
   "source": [
    "i = 1\n",
    "j = 5\n",
    "while i < j:\n",
    "    print(i)\n",
    "    i = i+1"
   ]
  },
  {
   "cell_type": "code",
   "execution_count": null,
   "metadata": {},
   "outputs": [],
   "source": [
    "f"
   ]
  }
 ],
 "metadata": {
  "kernelspec": {
   "display_name": "Python 3",
   "language": "python",
   "name": "python3"
  },
  "language_info": {
   "codemirror_mode": {
    "name": "ipython",
    "version": 3
   },
   "file_extension": ".py",
   "mimetype": "text/x-python",
   "name": "python",
   "nbconvert_exporter": "python",
   "pygments_lexer": "ipython3",
   "version": "3.8.10"
  }
 },
 "nbformat": 4,
 "nbformat_minor": 4
}
