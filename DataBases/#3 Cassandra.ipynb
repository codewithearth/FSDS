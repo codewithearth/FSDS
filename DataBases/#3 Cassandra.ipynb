{
 "cells": [
  {
   "cell_type": "code",
   "execution_count": 1,
   "metadata": {},
   "outputs": [
    {
     "name": "stdout",
     "output_type": "stream",
     "text": [
      "WARNING: pip is being invoked by an old script wrapper. This will fail in a future version of pip.\n",
      "Please see https://github.com/pypa/pip/issues/5599 for advice on fixing the underlying issue.\n",
      "To avoid this problem you can invoke Python with '-m pip' instead of running pip directly.\n",
      "Collecting cassandra-driver\n",
      "  Downloading cassandra_driver-3.25.0-cp37-cp37m-manylinux1_x86_64.whl (3.8 MB)\n",
      "\u001b[2K     \u001b[38;2;114;156;31m━━━━━━━━━━━━━━━━━━━━━━━━━━━━━━━━━━━━━━━━\u001b[0m \u001b[32m3.8/3.8 MB\u001b[0m \u001b[31m3.3 MB/s\u001b[0m eta \u001b[36m0:00:00\u001b[0mm eta \u001b[36m0:00:01\u001b[0m0:01\u001b[0m:01\u001b[0m\n",
      "\u001b[?25hCollecting geomet<0.3,>=0.1\n",
      "  Downloading geomet-0.2.1.post1-py3-none-any.whl (18 kB)\n",
      "Requirement already satisfied: six>=1.9 in /snap/jupyter/6/lib/python3.7/site-packages (from cassandra-driver) (1.12.0)\n",
      "Collecting click\n",
      "  Downloading click-8.0.4-py3-none-any.whl (97 kB)\n",
      "\u001b[2K     \u001b[38;2;114;156;31m━━━━━━━━━━━━━━━━━━━━━━━━━━━━━━━━━━━━━━━━\u001b[0m \u001b[32m97.5/97.5 KB\u001b[0m \u001b[31m1.0 MB/s\u001b[0m eta \u001b[36m0:00:00\u001b[0m[31m44.9 MB/s\u001b[0m eta \u001b[36m0:00:01\u001b[0m\n",
      "\u001b[?25hRequirement already satisfied: importlib-metadata in /home/er-royalprince/snap/jupyter/common/lib/python3.7/site-packages (from click->geomet<0.3,>=0.1->cassandra-driver) (4.11.2)\n",
      "Requirement already satisfied: typing-extensions>=3.6.4 in /home/er-royalprince/snap/jupyter/common/lib/python3.7/site-packages (from importlib-metadata->click->geomet<0.3,>=0.1->cassandra-driver) (4.1.1)\n",
      "Requirement already satisfied: zipp>=0.5 in /home/er-royalprince/snap/jupyter/common/lib/python3.7/site-packages (from importlib-metadata->click->geomet<0.3,>=0.1->cassandra-driver) (3.7.0)\n",
      "Installing collected packages: click, geomet, cassandra-driver\n",
      "Successfully installed cassandra-driver-3.25.0 click-8.0.4 geomet-0.2.1.post1\n",
      "\u001b[33mWARNING: You are using pip version 22.0.3; however, version 22.0.4 is available.\n",
      "You should consider upgrading via the '/snap/jupyter/6/bin/python -m pip install --upgrade pip' command.\u001b[0m\u001b[33m\n",
      "\u001b[0m"
     ]
    }
   ],
   "source": [
    "!pip install cassandra-driver"
   ]
  },
  {
   "cell_type": "code",
   "execution_count": 3,
   "metadata": {},
   "outputs": [
    {
     "name": "stdout",
     "output_type": "stream",
     "text": [
      "3.25.0\n"
     ]
    }
   ],
   "source": [
    "import cassandra; \n",
    "print (cassandra.__version__)"
   ]
  },
  {
   "cell_type": "code",
   "execution_count": 5,
   "metadata": {},
   "outputs": [
    {
     "name": "stdout",
     "output_type": "stream",
     "text": [
      "4.0.0.6816\n"
     ]
    }
   ],
   "source": [
    "from cassandra.cluster import Cluster\n",
    "from cassandra.auth import PlainTextAuthProvider\n",
    "\n",
    "cloud_config= {\n",
    "        'secure_connect_bundle': '/home/er-royalprince/secure-connect-prince.zip'\n",
    "}\n",
    "auth_provider = PlainTextAuthProvider('LYHvnWBKNfSMLIZEiNOCvAmQ', 'O3fL,yqzhFOPTNd5Aw4lBcr.R7zQ_PBYZzUlj3-Lp76g_HPfL_68TKhn1WSAgfXlm8PjCR,6DwIZr43slnMKeKvpZ4oqCFJc28ytEqq.oN+veNvNS997,U+xnZ9fMlPP')\n",
    "cluster = Cluster(cloud=cloud_config, auth_provider=auth_provider)\n",
    "session = cluster.connect()\n",
    "\n",
    "row = session.execute(\"select release_version from system.local\").one()\n",
    "if row:\n",
    "    print(row[0])\n",
    "else:\n",
    "    print(\"An error occurred.\")"
   ]
  },
  {
   "cell_type": "code",
   "execution_count": 4,
   "metadata": {},
   "outputs": [
    {
     "data": {
      "text/plain": [
       "'/home/er-royalprince/All/MY DATA/Data Science/Full Stack Data Science/3. Databases Lecture/Code'"
      ]
     },
     "execution_count": 4,
     "metadata": {},
     "output_type": "execute_result"
    }
   ],
   "source": [
    "pwd()"
   ]
  },
  {
   "cell_type": "code",
   "execution_count": null,
   "metadata": {},
   "outputs": [],
   "source": [
    "CREATE KEYSPACE cycling WITH REPLICATION = {'class' : 'SimpleStrategy', 'replication_factor' : 1 } AND durable_writes='ture';"
   ]
  },
  {
   "cell_type": "code",
   "execution_count": 6,
   "metadata": {},
   "outputs": [
    {
     "ename": "Unauthorized",
     "evalue": "Error from server: code=2100 [Unauthorized] message=\"Missing correct permission on test2.\"",
     "output_type": "error",
     "traceback": [
      "\u001b[0;31m---------------------------------------------------------------------------\u001b[0m",
      "\u001b[0;31mUnauthorized\u001b[0m                              Traceback (most recent call last)",
      "\u001b[0;32m<ipython-input-6-32a62135145d>\u001b[0m in \u001b[0;36m<module>\u001b[0;34m\u001b[0m\n\u001b[1;32m      9\u001b[0m \u001b[0msession\u001b[0m \u001b[0;34m=\u001b[0m \u001b[0mcluster\u001b[0m\u001b[0;34m.\u001b[0m\u001b[0mconnect\u001b[0m\u001b[0;34m(\u001b[0m\u001b[0;34m)\u001b[0m\u001b[0;34m\u001b[0m\u001b[0;34m\u001b[0m\u001b[0m\n\u001b[1;32m     10\u001b[0m \u001b[0;34m\u001b[0m\u001b[0m\n\u001b[0;32m---> 11\u001b[0;31m \u001b[0mrow\u001b[0m \u001b[0;34m=\u001b[0m \u001b[0msession\u001b[0m\u001b[0;34m.\u001b[0m\u001b[0mexecute\u001b[0m\u001b[0;34m(\u001b[0m\u001b[0;34m\"CREATE KEYSPACE test2 WITH REPLICATION = {'class' : 'SimpleStrategy', 'replication_factor' : 1 } AND durable_writes='ture';\"\u001b[0m\u001b[0;34m)\u001b[0m\u001b[0;34m.\u001b[0m\u001b[0mone\u001b[0m\u001b[0;34m(\u001b[0m\u001b[0;34m)\u001b[0m\u001b[0;34m\u001b[0m\u001b[0;34m\u001b[0m\u001b[0m\n\u001b[0m\u001b[1;32m     12\u001b[0m \u001b[0;32mif\u001b[0m \u001b[0mrow\u001b[0m\u001b[0;34m:\u001b[0m\u001b[0;34m\u001b[0m\u001b[0;34m\u001b[0m\u001b[0m\n\u001b[1;32m     13\u001b[0m     \u001b[0mprint\u001b[0m\u001b[0;34m(\u001b[0m\u001b[0mrow\u001b[0m\u001b[0;34m[\u001b[0m\u001b[0;36m0\u001b[0m\u001b[0;34m]\u001b[0m\u001b[0;34m)\u001b[0m\u001b[0;34m\u001b[0m\u001b[0;34m\u001b[0m\u001b[0m\n",
      "\u001b[0;32m/home/er-royalprince/snap/jupyter/common/lib/python3.7/site-packages/cassandra/cluster.cpython-37m-x86_64-linux-gnu.so\u001b[0m in \u001b[0;36mcassandra.cluster.Session.execute\u001b[0;34m()\u001b[0m\n",
      "\u001b[0;32m/home/er-royalprince/snap/jupyter/common/lib/python3.7/site-packages/cassandra/cluster.cpython-37m-x86_64-linux-gnu.so\u001b[0m in \u001b[0;36mcassandra.cluster.ResponseFuture.result\u001b[0;34m()\u001b[0m\n",
      "\u001b[0;31mUnauthorized\u001b[0m: Error from server: code=2100 [Unauthorized] message=\"Missing correct permission on test2.\""
     ]
    }
   ],
   "source": [
    "from cassandra.cluster import Cluster\n",
    "from cassandra.auth import PlainTextAuthProvider\n",
    "\n",
    "cloud_config= {\n",
    "        'secure_connect_bundle': '/home/er-royalprince/secure-connect-prince.zip'\n",
    "}\n",
    "auth_provider = PlainTextAuthProvider('LYHvnWBKNfSMLIZEiNOCvAmQ', 'O3fL,yqzhFOPTNd5Aw4lBcr.R7zQ_PBYZzUlj3-Lp76g_HPfL_68TKhn1WSAgfXlm8PjCR,6DwIZr43slnMKeKvpZ4oqCFJc28ytEqq.oN+veNvNS997,U+xnZ9fMlPP')\n",
    "cluster = Cluster(cloud=cloud_config, auth_provider=auth_provider)\n",
    "session = cluster.connect()\n",
    "\n",
    "row = session.execute(\"CREATE KEYSPACE test2 WITH REPLICATION = {'class' : 'SimpleStrategy', 'replication_factor' : 1 } AND durable_writes='ture';\").one()\n",
    "if row:\n",
    "    print(row[0])\n",
    "else:\n",
    "    print(\"An error occurred.\")"
   ]
  },
  {
   "cell_type": "code",
   "execution_count": 9,
   "metadata": {},
   "outputs": [
    {
     "name": "stdout",
     "output_type": "stream",
     "text": [
      "An error occurred.\n"
     ]
    }
   ],
   "source": [
    "from cassandra.cluster import Cluster\n",
    "from cassandra.auth import PlainTextAuthProvider\n",
    "\n",
    "cloud_config= {\n",
    "        'secure_connect_bundle': '/home/er-royalprince/secure-connect-prince.zip'\n",
    "}\n",
    "auth_provider = PlainTextAuthProvider('LYHvnWBKNfSMLIZEiNOCvAmQ', 'O3fL,yqzhFOPTNd5Aw4lBcr.R7zQ_PBYZzUlj3-Lp76g_HPfL_68TKhn1WSAgfXlm8PjCR,6DwIZr43slnMKeKvpZ4oqCFJc28ytEqq.oN+veNvNS997,U+xnZ9fMlPP')\n",
    "cluster = Cluster(cloud=cloud_config, auth_provider=auth_provider)\n",
    "session = cluster.connect()\n",
    "\n",
    "row = session.execute(\"use test\").one()\n",
    "if row:\n",
    "    print(row[0])\n",
    "else:\n",
    "    print(\"An error occurred.\")"
   ]
  },
  {
   "cell_type": "code",
   "execution_count": 10,
   "metadata": {},
   "outputs": [
    {
     "name": "stdout",
     "output_type": "stream",
     "text": [
      "None\n"
     ]
    }
   ],
   "source": [
    "from cassandra.cluster import Cluster\n",
    "from cassandra.auth import PlainTextAuthProvider\n",
    "\n",
    "cloud_config= {\n",
    "        'secure_connect_bundle': '/home/er-royalprince/secure-connect-prince.zip'\n",
    "}\n",
    "auth_provider = PlainTextAuthProvider('LYHvnWBKNfSMLIZEiNOCvAmQ', 'O3fL,yqzhFOPTNd5Aw4lBcr.R7zQ_PBYZzUlj3-Lp76g_HPfL_68TKhn1WSAgfXlm8PjCR,6DwIZr43slnMKeKvpZ4oqCFJc28ytEqq.oN+veNvNS997,U+xnZ9fMlPP')\n",
    "cluster = Cluster(cloud=cloud_config, auth_provider=auth_provider)\n",
    "session = cluster.connect()\n",
    "\n",
    "row = session.execute(\"use test\").one()\n",
    "print(row)"
   ]
  },
  {
   "cell_type": "code",
   "execution_count": 11,
   "metadata": {},
   "outputs": [
    {
     "ename": "Unauthorized",
     "evalue": "Error from server: code=2100 [Unauthorized] message=\"Missing correct permission on test2.\"",
     "output_type": "error",
     "traceback": [
      "\u001b[0;31m---------------------------------------------------------------------------\u001b[0m",
      "\u001b[0;31mUnauthorized\u001b[0m                              Traceback (most recent call last)",
      "\u001b[0;32m<ipython-input-11-8654905d2db0>\u001b[0m in \u001b[0;36m<module>\u001b[0;34m\u001b[0m\n\u001b[1;32m      9\u001b[0m \u001b[0msession\u001b[0m \u001b[0;34m=\u001b[0m \u001b[0mcluster\u001b[0m\u001b[0;34m.\u001b[0m\u001b[0mconnect\u001b[0m\u001b[0;34m(\u001b[0m\u001b[0;34m)\u001b[0m\u001b[0;34m\u001b[0m\u001b[0;34m\u001b[0m\u001b[0m\n\u001b[1;32m     10\u001b[0m \u001b[0;34m\u001b[0m\u001b[0m\n\u001b[0;32m---> 11\u001b[0;31m \u001b[0mrow\u001b[0m \u001b[0;34m=\u001b[0m \u001b[0msession\u001b[0m\u001b[0;34m.\u001b[0m\u001b[0mexecute\u001b[0m\u001b[0;34m(\u001b[0m\u001b[0;34m\"CREATE KEYSPACE test2 WITH replication = {'class': 'NetworkTopologyStrategy', 'us-east1': '3'}  AND durable_writes = true;\"\u001b[0m\u001b[0;34m)\u001b[0m\u001b[0;34m.\u001b[0m\u001b[0mone\u001b[0m\u001b[0;34m(\u001b[0m\u001b[0;34m)\u001b[0m\u001b[0;34m\u001b[0m\u001b[0;34m\u001b[0m\u001b[0m\n\u001b[0m\u001b[1;32m     12\u001b[0m \u001b[0mprint\u001b[0m\u001b[0;34m(\u001b[0m\u001b[0mrow\u001b[0m\u001b[0;34m)\u001b[0m\u001b[0;34m\u001b[0m\u001b[0;34m\u001b[0m\u001b[0m\n",
      "\u001b[0;32m/home/er-royalprince/snap/jupyter/common/lib/python3.7/site-packages/cassandra/cluster.cpython-37m-x86_64-linux-gnu.so\u001b[0m in \u001b[0;36mcassandra.cluster.Session.execute\u001b[0;34m()\u001b[0m\n",
      "\u001b[0;32m/home/er-royalprince/snap/jupyter/common/lib/python3.7/site-packages/cassandra/cluster.cpython-37m-x86_64-linux-gnu.so\u001b[0m in \u001b[0;36mcassandra.cluster.ResponseFuture.result\u001b[0;34m()\u001b[0m\n",
      "\u001b[0;31mUnauthorized\u001b[0m: Error from server: code=2100 [Unauthorized] message=\"Missing correct permission on test2.\""
     ]
    }
   ],
   "source": [
    "from cassandra.cluster import Cluster\n",
    "from cassandra.auth import PlainTextAuthProvider\n",
    "\n",
    "cloud_config= {\n",
    "        'secure_connect_bundle': '/home/er-royalprince/secure-connect-prince.zip'\n",
    "}\n",
    "auth_provider = PlainTextAuthProvider('LYHvnWBKNfSMLIZEiNOCvAmQ', 'O3fL,yqzhFOPTNd5Aw4lBcr.R7zQ_PBYZzUlj3-Lp76g_HPfL_68TKhn1WSAgfXlm8PjCR,6DwIZr43slnMKeKvpZ4oqCFJc28ytEqq.oN+veNvNS997,U+xnZ9fMlPP')\n",
    "cluster = Cluster(cloud=cloud_config, auth_provider=auth_provider)\n",
    "session = cluster.connect()\n",
    "\n",
    "row = session.execute(\"CREATE KEYSPACE test2 WITH replication = {'class': 'NetworkTopologyStrategy', 'us-east1': '3'}  AND durable_writes = true;\").one()\n",
    "print(row)"
   ]
  },
  {
   "cell_type": "code",
   "execution_count": null,
   "metadata": {},
   "outputs": [],
   "source": [
    "CREATE KEYSPACE test WITH replication = {'class': 'NetworkTopologyStrategy', 'us-east1': '3'}  AND durable_writes = true;"
   ]
  },
  {
   "cell_type": "code",
   "execution_count": 12,
   "metadata": {},
   "outputs": [
    {
     "name": "stdout",
     "output_type": "stream",
     "text": [
      "Row(keyspace_name='system_auth', durable_writes=True, graph_engine=None, replication=OrderedMapSerializedKey([('class', 'org.apache.cassandra.locator.NetworkTopologyStrategy'), ('us-east1', '3')]))\n"
     ]
    }
   ],
   "source": [
    "from cassandra.cluster import Cluster\n",
    "from cassandra.auth import PlainTextAuthProvider\n",
    "\n",
    "cloud_config= {\n",
    "        'secure_connect_bundle': '/home/er-royalprince/secure-connect-prince.zip'\n",
    "}\n",
    "auth_provider = PlainTextAuthProvider('LYHvnWBKNfSMLIZEiNOCvAmQ', 'O3fL,yqzhFOPTNd5Aw4lBcr.R7zQ_PBYZzUlj3-Lp76g_HPfL_68TKhn1WSAgfXlm8PjCR,6DwIZr43slnMKeKvpZ4oqCFJc28ytEqq.oN+veNvNS997,U+xnZ9fMlPP')\n",
    "cluster = Cluster(cloud=cloud_config, auth_provider=auth_provider)\n",
    "session = cluster.connect()\n",
    "\n",
    "row = session.execute(\"Select * from system_schema.keyspaces\").one()\n",
    "print(row)"
   ]
  },
  {
   "cell_type": "code",
   "execution_count": 13,
   "metadata": {},
   "outputs": [
    {
     "ename": "SyntaxException",
     "evalue": "<Error from server: code=2000 [Syntax error in CQL query] message=\"line 1:0 no viable alternative at input 'describe' ([describe]...)\">",
     "output_type": "error",
     "traceback": [
      "\u001b[0;31m---------------------------------------------------------------------------\u001b[0m",
      "\u001b[0;31mSyntaxException\u001b[0m                           Traceback (most recent call last)",
      "\u001b[0;32m<ipython-input-13-01067f7d4e1c>\u001b[0m in \u001b[0;36m<module>\u001b[0;34m\u001b[0m\n\u001b[1;32m      9\u001b[0m \u001b[0msession\u001b[0m \u001b[0;34m=\u001b[0m \u001b[0mcluster\u001b[0m\u001b[0;34m.\u001b[0m\u001b[0mconnect\u001b[0m\u001b[0;34m(\u001b[0m\u001b[0;34m)\u001b[0m\u001b[0;34m\u001b[0m\u001b[0;34m\u001b[0m\u001b[0m\n\u001b[1;32m     10\u001b[0m \u001b[0;34m\u001b[0m\u001b[0m\n\u001b[0;32m---> 11\u001b[0;31m \u001b[0mrow\u001b[0m \u001b[0;34m=\u001b[0m \u001b[0msession\u001b[0m\u001b[0;34m.\u001b[0m\u001b[0mexecute\u001b[0m\u001b[0;34m(\u001b[0m\u001b[0;34m\"describe test\"\u001b[0m\u001b[0;34m)\u001b[0m\u001b[0;34m.\u001b[0m\u001b[0mone\u001b[0m\u001b[0;34m(\u001b[0m\u001b[0;34m)\u001b[0m\u001b[0;34m\u001b[0m\u001b[0;34m\u001b[0m\u001b[0m\n\u001b[0m\u001b[1;32m     12\u001b[0m \u001b[0mprint\u001b[0m\u001b[0;34m(\u001b[0m\u001b[0mrow\u001b[0m\u001b[0;34m)\u001b[0m\u001b[0;34m\u001b[0m\u001b[0;34m\u001b[0m\u001b[0m\n",
      "\u001b[0;32m/home/er-royalprince/snap/jupyter/common/lib/python3.7/site-packages/cassandra/cluster.cpython-37m-x86_64-linux-gnu.so\u001b[0m in \u001b[0;36mcassandra.cluster.Session.execute\u001b[0;34m()\u001b[0m\n",
      "\u001b[0;32m/home/er-royalprince/snap/jupyter/common/lib/python3.7/site-packages/cassandra/cluster.cpython-37m-x86_64-linux-gnu.so\u001b[0m in \u001b[0;36mcassandra.cluster.ResponseFuture.result\u001b[0;34m()\u001b[0m\n",
      "\u001b[0;31mSyntaxException\u001b[0m: <Error from server: code=2000 [Syntax error in CQL query] message=\"line 1:0 no viable alternative at input 'describe' ([describe]...)\">"
     ]
    }
   ],
   "source": [
    "from cassandra.cluster import Cluster\n",
    "from cassandra.auth import PlainTextAuthProvider\n",
    "\n",
    "cloud_config= {\n",
    "        'secure_connect_bundle': '/home/er-royalprince/secure-connect-prince.zip'\n",
    "}\n",
    "auth_provider = PlainTextAuthProvider('LYHvnWBKNfSMLIZEiNOCvAmQ', 'O3fL,yqzhFOPTNd5Aw4lBcr.R7zQ_PBYZzUlj3-Lp76g_HPfL_68TKhn1WSAgfXlm8PjCR,6DwIZr43slnMKeKvpZ4oqCFJc28ytEqq.oN+veNvNS997,U+xnZ9fMlPP')\n",
    "cluster = Cluster(cloud=cloud_config, auth_provider=auth_provider)\n",
    "session = cluster.connect()\n",
    "\n",
    "row = session.execute(\"describe test\").one()\n",
    "print(row)"
   ]
  },
  {
   "cell_type": "code",
   "execution_count": 15,
   "metadata": {},
   "outputs": [
    {
     "name": "stdout",
     "output_type": "stream",
     "text": [
      "Row(keyspace_name='system_auth', durable_writes=True, graph_engine=None, replication=OrderedMapSerializedKey([('class', 'org.apache.cassandra.locator.NetworkTopologyStrategy'), ('us-east1', '3')]))\n"
     ]
    }
   ],
   "source": [
    "from cassandra.cluster import Cluster\n",
    "from cassandra.auth import PlainTextAuthProvider\n",
    "\n",
    "cloud_config= {\n",
    "        'secure_connect_bundle': '/home/er-royalprince/secure-connect-prince.zip'\n",
    "}\n",
    "auth_provider = PlainTextAuthProvider('LYHvnWBKNfSMLIZEiNOCvAmQ', 'O3fL,yqzhFOPTNd5Aw4lBcr.R7zQ_PBYZzUlj3-Lp76g_HPfL_68TKhn1WSAgfXlm8PjCR,6DwIZr43slnMKeKvpZ4oqCFJc28ytEqq.oN+veNvNS997,U+xnZ9fMlPP')\n",
    "cluster = Cluster(cloud=cloud_config, auth_provider=auth_provider)\n",
    "session = cluster.connect()\n",
    "\n",
    "row = session.execute(\"SELECT * FROM system_schema.keyspaces;\").one()\n",
    "print(row)"
   ]
  },
  {
   "cell_type": "code",
   "execution_count": 16,
   "metadata": {},
   "outputs": [
    {
     "name": "stdout",
     "output_type": "stream",
     "text": [
      "None\n"
     ]
    }
   ],
   "source": [
    "from cassandra.cluster import Cluster\n",
    "from cassandra.auth import PlainTextAuthProvider\n",
    "\n",
    "cloud_config= {\n",
    "        'secure_connect_bundle': '/home/er-royalprince/secure-connect-prince.zip'\n",
    "}\n",
    "auth_provider = PlainTextAuthProvider('LYHvnWBKNfSMLIZEiNOCvAmQ', 'O3fL,yqzhFOPTNd5Aw4lBcr.R7zQ_PBYZzUlj3-Lp76g_HPfL_68TKhn1WSAgfXlm8PjCR,6DwIZr43slnMKeKvpZ4oqCFJc28ytEqq.oN+veNvNS997,U+xnZ9fMlPP')\n",
    "cluster = Cluster(cloud=cloud_config, auth_provider=auth_provider)\n",
    "session = cluster.connect()\n",
    "\n",
    "row = session.execute(\"CREATE TABLE test.emp( emp_id int PRIMARY KEY,emp_name text,emp_city text,emp_sal varint,emp_phone varint);\").one()\n",
    "print(row)"
   ]
  },
  {
   "cell_type": "code",
   "execution_count": 17,
   "metadata": {},
   "outputs": [
    {
     "name": "stdout",
     "output_type": "stream",
     "text": [
      "None\n"
     ]
    }
   ],
   "source": [
    "row = session.execute(\"select * from test.emp\").one()\n",
    "print(row)"
   ]
  },
  {
   "cell_type": "code",
   "execution_count": 23,
   "metadata": {},
   "outputs": [
    {
     "name": "stdout",
     "output_type": "stream",
     "text": [
      "None\n"
     ]
    }
   ],
   "source": [
    "row = session.execute(\"insert into test.emp(emp_id,emp_name,emp_city,emp_sal,emp_phone) values(1231,'Prince','Mohali',854987,7989748598);\").one()\n",
    "print(row)"
   ]
  },
  {
   "cell_type": "code",
   "execution_count": 20,
   "metadata": {},
   "outputs": [
    {
     "name": "stdout",
     "output_type": "stream",
     "text": [
      "None\n"
     ]
    }
   ],
   "source": [
    "from cassandra.cluster import Cluster\n",
    "from cassandra.auth import PlainTextAuthProvider\n",
    "\n",
    "cloud_config= {\n",
    "        'secure_connect_bundle': '/home/er-royalprince/secure-connect-prince.zip'\n",
    "}\n",
    "auth_provider = PlainTextAuthProvider('LYHvnWBKNfSMLIZEiNOCvAmQ', 'O3fL,yqzhFOPTNd5Aw4lBcr.R7zQ_PBYZzUlj3-Lp76g_HPfL_68TKhn1WSAgfXlm8PjCR,6DwIZr43slnMKeKvpZ4oqCFJc28ytEqq.oN+veNvNS997,U+xnZ9fMlPP')\n",
    "cluster = Cluster(cloud=cloud_config, auth_provider=auth_provider)\n",
    "session = cluster.connect()\n",
    "\n",
    "row = session.execute(\"CREATE TABLE test1.emp( emp_id int PRIMARY KEY,emp_name text);\").one()\n",
    "print(row)"
   ]
  },
  {
   "cell_type": "code",
   "execution_count": 22,
   "metadata": {},
   "outputs": [
    {
     "name": "stdout",
     "output_type": "stream",
     "text": [
      "None\n"
     ]
    }
   ],
   "source": [
    "row = session.execute(\"insert into test1.emp(emp_id,emp_name) values(1231,'Prince');\").one()\n",
    "print(row)"
   ]
  },
  {
   "cell_type": "code",
   "execution_count": 26,
   "metadata": {},
   "outputs": [
    {
     "name": "stdout",
     "output_type": "stream",
     "text": [
      "None\n"
     ]
    }
   ],
   "source": [
    "row = session.execute(\"insert into test.emp(emp_id,emp_name,emp_city,emp_sal,emp_phone) values(1475,'Prince1','Mohali',854987,7989748598);\").one()\n",
    "print(row)"
   ]
  },
  {
   "cell_type": "code",
   "execution_count": 27,
   "metadata": {},
   "outputs": [
    {
     "name": "stdout",
     "output_type": "stream",
     "text": [
      "None\n"
     ]
    }
   ],
   "source": [
    "row = session.execute(\"insert into test.emp(emp_id,emp_name,emp_city,emp_sal,emp_phone) values(1475,'King1','Chandigarh',8549874,7989788598);\").one()\n",
    "print(row)"
   ]
  },
  {
   "cell_type": "code",
   "execution_count": 28,
   "metadata": {},
   "outputs": [
    {
     "name": "stdout",
     "output_type": "stream",
     "text": [
      "None\n"
     ]
    }
   ],
   "source": [
    "row = session.execute(\"insert into test.emp(emp_id,emp_name,emp_city,emp_sal,emp_phone) values(1480,'King1','Chandigarh',8549874,7989788598);\").one()\n",
    "print(row)"
   ]
  },
  {
   "cell_type": "code",
   "execution_count": null,
   "metadata": {},
   "outputs": [],
   "source": [
    " "
   ]
  }
 ],
 "metadata": {
  "kernelspec": {
   "display_name": "Python 3",
   "language": "python",
   "name": "python3"
  },
  "language_info": {
   "codemirror_mode": {
    "name": "ipython",
    "version": 3
   },
   "file_extension": ".py",
   "mimetype": "text/x-python",
   "name": "python",
   "nbconvert_exporter": "python",
   "pygments_lexer": "ipython3",
   "version": "3.7.3"
  }
 },
 "nbformat": 4,
 "nbformat_minor": 2
}
