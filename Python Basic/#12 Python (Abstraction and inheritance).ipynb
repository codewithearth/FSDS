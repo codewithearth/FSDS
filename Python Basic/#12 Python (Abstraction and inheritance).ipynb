{
 "cells": [
  {
   "cell_type": "markdown",
   "metadata": {},
   "source": [
    "# Abstraction"
   ]
  },
  {
   "cell_type": "code",
   "execution_count": 1,
   "metadata": {},
   "outputs": [],
   "source": [
    "class test:\n",
    "    def __init__(self, a, b, c, d):\n",
    "        self.a = a\n",
    "        self.b = b\n",
    "        self.c = c\n",
    "        self.d = d\n",
    "    \n",
    "    def test_custome(self,v):\n",
    "        return v - self.a\n",
    "    \n",
    "    def __str__(self):\n",
    "        return \"this is my test code for abstraction\""
   ]
  },
  {
   "cell_type": "code",
   "execution_count": 2,
   "metadata": {},
   "outputs": [],
   "source": [
    "o = test(4,5,6,7)"
   ]
  },
  {
   "cell_type": "code",
   "execution_count": 3,
   "metadata": {},
   "outputs": [
    {
     "data": {
      "text/plain": [
       "3"
      ]
     },
     "execution_count": 3,
     "metadata": {},
     "output_type": "execute_result"
    }
   ],
   "source": [
    "o.test_custome(7)"
   ]
  },
  {
   "cell_type": "code",
   "execution_count": 4,
   "metadata": {},
   "outputs": [
    {
     "name": "stdout",
     "output_type": "stream",
     "text": [
      "this is my test code for abstraction\n"
     ]
    }
   ],
   "source": [
    "print(o)"
   ]
  },
  {
   "cell_type": "code",
   "execution_count": 5,
   "metadata": {},
   "outputs": [],
   "source": [
    "class test:\n",
    "    def __init__(self, a, b, c, d):\n",
    "        self._a = a\n",
    "        self.b = b\n",
    "        self.c = c\n",
    "        self.d = d\n",
    "    \n",
    "    def test_custome(self,v):\n",
    "        return v - self.a\n",
    "    \n",
    "    def __str__(self):\n",
    "        return \"this is my test code for abstraction\""
   ]
  },
  {
   "cell_type": "code",
   "execution_count": 6,
   "metadata": {},
   "outputs": [],
   "source": [
    "o = test(4,5,6,7)"
   ]
  },
  {
   "cell_type": "code",
   "execution_count": 7,
   "metadata": {},
   "outputs": [
    {
     "ename": "AttributeError",
     "evalue": "'test' object has no attribute 'a'",
     "output_type": "error",
     "traceback": [
      "\u001b[0;31m---------------------------------------------------------------------------\u001b[0m",
      "\u001b[0;31mAttributeError\u001b[0m                            Traceback (most recent call last)",
      "\u001b[0;32m<ipython-input-7-34e92870a5a2>\u001b[0m in \u001b[0;36m<module>\u001b[0;34m\u001b[0m\n\u001b[0;32m----> 1\u001b[0;31m \u001b[0mo\u001b[0m\u001b[0;34m.\u001b[0m\u001b[0mtest_custome\u001b[0m\u001b[0;34m(\u001b[0m\u001b[0;36m7\u001b[0m\u001b[0;34m)\u001b[0m\u001b[0;34m\u001b[0m\u001b[0;34m\u001b[0m\u001b[0m\n\u001b[0m",
      "\u001b[0;32m<ipython-input-5-8325d1031b14>\u001b[0m in \u001b[0;36mtest_custome\u001b[0;34m(self, v)\u001b[0m\n\u001b[1;32m      7\u001b[0m \u001b[0;34m\u001b[0m\u001b[0m\n\u001b[1;32m      8\u001b[0m     \u001b[0;32mdef\u001b[0m \u001b[0mtest_custome\u001b[0m\u001b[0;34m(\u001b[0m\u001b[0mself\u001b[0m\u001b[0;34m,\u001b[0m\u001b[0mv\u001b[0m\u001b[0;34m)\u001b[0m\u001b[0;34m:\u001b[0m\u001b[0;34m\u001b[0m\u001b[0;34m\u001b[0m\u001b[0m\n\u001b[0;32m----> 9\u001b[0;31m         \u001b[0;32mreturn\u001b[0m \u001b[0mv\u001b[0m \u001b[0;34m-\u001b[0m \u001b[0mself\u001b[0m\u001b[0;34m.\u001b[0m\u001b[0ma\u001b[0m\u001b[0;34m\u001b[0m\u001b[0;34m\u001b[0m\u001b[0m\n\u001b[0m\u001b[1;32m     10\u001b[0m \u001b[0;34m\u001b[0m\u001b[0m\n\u001b[1;32m     11\u001b[0m     \u001b[0;32mdef\u001b[0m \u001b[0m__str__\u001b[0m\u001b[0;34m(\u001b[0m\u001b[0mself\u001b[0m\u001b[0;34m)\u001b[0m\u001b[0;34m:\u001b[0m\u001b[0;34m\u001b[0m\u001b[0;34m\u001b[0m\u001b[0m\n",
      "\u001b[0;31mAttributeError\u001b[0m: 'test' object has no attribute 'a'"
     ]
    }
   ],
   "source": [
    "o.test_custome(7)"
   ]
  },
  {
   "cell_type": "code",
   "execution_count": 30,
   "metadata": {},
   "outputs": [],
   "source": [
    "class test:\n",
    "    def __init__(self, a, b, c, d):\n",
    "        self.a = a\n",
    "        self._b = b\n",
    "        self.__c = c\n",
    "        self.d = d\n",
    "    \n",
    "    def test_custome(self,v):\n",
    "        return v - self.a\n",
    "    \n",
    "    def test_custome1(self,v1):\n",
    "        return v1 - self._b\n",
    "    \n",
    "    def test_custome2(self,v2):\n",
    "        return v2 - self.__c\n",
    "    \n",
    "    def __str__(self):\n",
    "        return \"this is my test code for abstraction\""
   ]
  },
  {
   "cell_type": "code",
   "execution_count": 31,
   "metadata": {},
   "outputs": [],
   "source": [
    "o = test(4,5,6,7)"
   ]
  },
  {
   "cell_type": "code",
   "execution_count": 36,
   "metadata": {},
   "outputs": [
    {
     "data": {
      "text/plain": [
       "3"
      ]
     },
     "execution_count": 36,
     "metadata": {},
     "output_type": "execute_result"
    }
   ],
   "source": [
    "o.test_custome(7)"
   ]
  },
  {
   "cell_type": "code",
   "execution_count": 37,
   "metadata": {},
   "outputs": [
    {
     "data": {
      "text/plain": [
       "4"
      ]
     },
     "execution_count": 37,
     "metadata": {},
     "output_type": "execute_result"
    }
   ],
   "source": [
    "o.a"
   ]
  },
  {
   "cell_type": "code",
   "execution_count": 38,
   "metadata": {},
   "outputs": [
    {
     "data": {
      "text/plain": [
       "2"
      ]
     },
     "execution_count": 38,
     "metadata": {},
     "output_type": "execute_result"
    }
   ],
   "source": [
    "o.test_custome1(7)"
   ]
  },
  {
   "cell_type": "code",
   "execution_count": 39,
   "metadata": {},
   "outputs": [
    {
     "data": {
      "text/plain": [
       "5"
      ]
     },
     "execution_count": 39,
     "metadata": {},
     "output_type": "execute_result"
    }
   ],
   "source": [
    "o._b"
   ]
  },
  {
   "cell_type": "code",
   "execution_count": 40,
   "metadata": {},
   "outputs": [
    {
     "data": {
      "text/plain": [
       "1"
      ]
     },
     "execution_count": 40,
     "metadata": {},
     "output_type": "execute_result"
    }
   ],
   "source": [
    "o.test_custome2(7)"
   ]
  },
  {
   "cell_type": "code",
   "execution_count": 41,
   "metadata": {},
   "outputs": [
    {
     "ename": "AttributeError",
     "evalue": "'test' object has no attribute '__c'",
     "output_type": "error",
     "traceback": [
      "\u001b[0;31m---------------------------------------------------------------------------\u001b[0m",
      "\u001b[0;31mAttributeError\u001b[0m                            Traceback (most recent call last)",
      "\u001b[0;32m<ipython-input-41-7013fce5c13d>\u001b[0m in \u001b[0;36m<module>\u001b[0;34m\u001b[0m\n\u001b[0;32m----> 1\u001b[0;31m \u001b[0mo\u001b[0m\u001b[0;34m.\u001b[0m\u001b[0m__c\u001b[0m\u001b[0;34m\u001b[0m\u001b[0;34m\u001b[0m\u001b[0m\n\u001b[0m",
      "\u001b[0;31mAttributeError\u001b[0m: 'test' object has no attribute '__c'"
     ]
    }
   ],
   "source": [
    "o.__c"
   ]
  },
  {
   "cell_type": "code",
   "execution_count": 42,
   "metadata": {},
   "outputs": [
    {
     "data": {
      "text/plain": [
       "6"
      ]
     },
     "execution_count": 42,
     "metadata": {},
     "output_type": "execute_result"
    }
   ],
   "source": [
    "o._test__c"
   ]
  },
  {
   "cell_type": "markdown",
   "metadata": {},
   "source": [
    "# Inheritance"
   ]
  },
  {
   "cell_type": "code",
   "execution_count": 46,
   "metadata": {},
   "outputs": [],
   "source": [
    "class test:\n",
    "    def __init__(self, a, b, c, d):\n",
    "        self.__a = a\n",
    "        self.b = b\n",
    "        self.c = c\n",
    "        self.d = d\n",
    "    \n",
    "    def test_custome(self,v):\n",
    "        return v - self.__a\n",
    "    \n",
    "    def __str__(self):\n",
    "        return \"this is my test code for abstraction\""
   ]
  },
  {
   "cell_type": "code",
   "execution_count": 52,
   "metadata": {},
   "outputs": [
    {
     "data": {
      "text/plain": [
       "6"
      ]
     },
     "execution_count": 52,
     "metadata": {},
     "output_type": "execute_result"
    }
   ],
   "source": [
    "class test1(test):\n",
    "    \n",
    "    def __init__(self,j, *args):\n",
    "        super(test1,self).__init__(*args)\n",
    "        self.j = j\n",
    "        \n",
    "        \n",
    "m = test1(4,5,6,7,8)\n",
    "m.b"
   ]
  },
  {
   "cell_type": "code",
   "execution_count": 53,
   "metadata": {},
   "outputs": [
    {
     "data": {
      "text/plain": [
       "4"
      ]
     },
     "execution_count": 53,
     "metadata": {},
     "output_type": "execute_result"
    }
   ],
   "source": [
    "m.j"
   ]
  },
  {
   "cell_type": "code",
   "execution_count": 54,
   "metadata": {},
   "outputs": [
    {
     "data": {
      "text/plain": [
       "3"
      ]
     },
     "execution_count": 54,
     "metadata": {},
     "output_type": "execute_result"
    }
   ],
   "source": [
    "m.test_custome(8)"
   ]
  },
  {
   "cell_type": "code",
   "execution_count": 55,
   "metadata": {},
   "outputs": [
    {
     "data": {
      "text/plain": [
       "6"
      ]
     },
     "execution_count": 55,
     "metadata": {},
     "output_type": "execute_result"
    }
   ],
   "source": [
    "m.b"
   ]
  },
  {
   "cell_type": "code",
   "execution_count": 57,
   "metadata": {},
   "outputs": [
    {
     "data": {
      "text/plain": [
       "7"
      ]
     },
     "execution_count": 57,
     "metadata": {},
     "output_type": "execute_result"
    }
   ],
   "source": [
    "m.c"
   ]
  },
  {
   "cell_type": "code",
   "execution_count": 58,
   "metadata": {},
   "outputs": [
    {
     "data": {
      "text/plain": [
       "8"
      ]
     },
     "execution_count": 58,
     "metadata": {},
     "output_type": "execute_result"
    }
   ],
   "source": [
    "m.d"
   ]
  },
  {
   "cell_type": "markdown",
   "metadata": {},
   "source": [
    "##  Multiple  Inheritance"
   ]
  },
  {
   "cell_type": "code",
   "execution_count": 156,
   "metadata": {},
   "outputs": [],
   "source": [
    "class test:\n",
    "\n",
    "    def a(self):\n",
    "        print(\"this is a() of class test\")\n",
    "        \n",
    "    def __str__(self):\n",
    "        print(\"this is a test function\")"
   ]
  },
  {
   "cell_type": "code",
   "execution_count": 157,
   "metadata": {},
   "outputs": [],
   "source": [
    "class test1:\n",
    "    \n",
    "    def a(self):\n",
    "        print(\"this is a() of class test1\")\n",
    "        \n",
    "    def __str__(self):\n",
    "        print(\"this is a test1 function\")"
   ]
  },
  {
   "cell_type": "code",
   "execution_count": 168,
   "metadata": {},
   "outputs": [],
   "source": [
    "class test2(test,test1):\n",
    "    \n",
    "    def call(self):\n",
    "        return self.a()\n",
    "        \n",
    "        print(\"this is a test2 function\")"
   ]
  },
  {
   "cell_type": "code",
   "execution_count": 169,
   "metadata": {},
   "outputs": [],
   "source": [
    "p = test2()"
   ]
  },
  {
   "cell_type": "code",
   "execution_count": 172,
   "metadata": {},
   "outputs": [
    {
     "name": "stdout",
     "output_type": "stream",
     "text": [
      "this is a() of class test\n"
     ]
    }
   ],
   "source": [
    "p.a()"
   ]
  },
  {
   "cell_type": "code",
   "execution_count": 173,
   "metadata": {},
   "outputs": [
    {
     "name": "stdout",
     "output_type": "stream",
     "text": [
      "this is a() of class test\n"
     ]
    }
   ],
   "source": [
    "p.call()"
   ]
  },
  {
   "cell_type": "code",
   "execution_count": 174,
   "metadata": {},
   "outputs": [],
   "source": [
    "class test3(test1,test):\n",
    "    \n",
    "    def call1(self):\n",
    "        return self.a()\n",
    "        \n",
    "        print(\"this is a test3 function\")"
   ]
  },
  {
   "cell_type": "code",
   "execution_count": 175,
   "metadata": {},
   "outputs": [],
   "source": [
    "p1 = test3()"
   ]
  },
  {
   "cell_type": "code",
   "execution_count": 176,
   "metadata": {},
   "outputs": [
    {
     "name": "stdout",
     "output_type": "stream",
     "text": [
      "this is a() of class test1\n"
     ]
    }
   ],
   "source": [
    "p1.a()"
   ]
  },
  {
   "cell_type": "code",
   "execution_count": 177,
   "metadata": {},
   "outputs": [
    {
     "name": "stdout",
     "output_type": "stream",
     "text": [
      "this is a() of class test1\n"
     ]
    }
   ],
   "source": [
    "p1.call1()"
   ]
  },
  {
   "cell_type": "markdown",
   "metadata": {},
   "source": [
    "## Multi-Level Inheritance"
   ]
  },
  {
   "cell_type": "code",
   "execution_count": 178,
   "metadata": {},
   "outputs": [],
   "source": [
    "class house:\n",
    "    \n",
    "    def room(self):\n",
    "        return \"this is the room\"\n",
    "    \n",
    "class house1(house):\n",
    "    \n",
    "    def room1(self):    \n",
    "        return self.room()+\" of house\"\n",
    "    \n",
    "class house2(house1):\n",
    "    \n",
    "    def room2(self):\n",
    "        return self.room1()+\" in India\""
   ]
  },
  {
   "cell_type": "code",
   "execution_count": 179,
   "metadata": {},
   "outputs": [],
   "source": [
    "a = house2()"
   ]
  },
  {
   "cell_type": "code",
   "execution_count": 181,
   "metadata": {},
   "outputs": [
    {
     "data": {
      "text/plain": [
       "'this is the room'"
      ]
     },
     "execution_count": 181,
     "metadata": {},
     "output_type": "execute_result"
    }
   ],
   "source": [
    "a.room()"
   ]
  },
  {
   "cell_type": "code",
   "execution_count": 182,
   "metadata": {},
   "outputs": [
    {
     "data": {
      "text/plain": [
       "'this is the room of house'"
      ]
     },
     "execution_count": 182,
     "metadata": {},
     "output_type": "execute_result"
    }
   ],
   "source": [
    "a.room1()"
   ]
  },
  {
   "cell_type": "code",
   "execution_count": 183,
   "metadata": {},
   "outputs": [
    {
     "data": {
      "text/plain": [
       "'this is the room of house in India'"
      ]
     },
     "execution_count": 183,
     "metadata": {},
     "output_type": "execute_result"
    }
   ],
   "source": [
    "a.room2()"
   ]
  },
  {
   "cell_type": "markdown",
   "metadata": {},
   "source": [
    "# Encapsulation"
   ]
  },
  {
   "cell_type": "code",
   "execution_count": 195,
   "metadata": {},
   "outputs": [],
   "source": [
    "class test:\n",
    "    \n",
    "    def __init__(self, a, b, c):\n",
    "        self.a = a\n",
    "        self.b = b\n",
    "        self.c = c\n",
    "        \n",
    "    def __str__(self):\n",
    "        return \" this is return from my test class\"\n",
    "    \n",
    "class test1:\n",
    "    \n",
    "    def __init__(self, a1, b1, c1):\n",
    "        self.a1 = a1\n",
    "        self.b1 = b1\n",
    "        self.c1 = c1\n",
    "        \n",
    "    def __str__(self):\n",
    "        return \" this is return from my test1 class\"\n",
    "    \n",
    "class test2:\n",
    "    \n",
    "    def __init__(self, a2, b2, c2):\n",
    "        self.a2 = a2\n",
    "        self.b2 = b2\n",
    "        self.c2 = c2\n",
    "        \n",
    "    def __str__(self):\n",
    "        return \" this is return from my test2 class\"\n",
    "    \n",
    "class final:\n",
    "    \n",
    "    def __init__(self,x,y,z):\n",
    "        self.x = x\n",
    "        self.y = y\n",
    "        self.z = z\n",
    "        \n",
    "    def __str__(self):\n",
    "        \n",
    "        return \"this is a print from final class\"+str(self.x)+\" \"+str(self.y)+\" \"+str(self.z)"
   ]
  },
  {
   "cell_type": "code",
   "execution_count": 196,
   "metadata": {},
   "outputs": [],
   "source": [
    "t = test(4,5,6)\n",
    "t1 = test1(3,4,5)\n",
    "t2 = test2(5,6,7)\n",
    "f = final(t,t1,t2)"
   ]
  },
  {
   "cell_type": "code",
   "execution_count": 197,
   "metadata": {},
   "outputs": [
    {
     "name": "stdout",
     "output_type": "stream",
     "text": [
      "this is a print from final class this is return from my test class  this is return from my test1 class  this is return from my test2 class\n"
     ]
    }
   ],
   "source": [
    "print(f)"
   ]
  },
  {
   "cell_type": "code",
   "execution_count": 201,
   "metadata": {},
   "outputs": [
    {
     "name": "stdout",
     "output_type": "stream",
     "text": [
      "Tyres: \n",
      " \tBranch: Pirelli\n",
      " \tBelted-bias: True\n",
      " \tOptimal pressure: 2.0\n",
      "Engine: \n",
      " \tFuel type: Diesel\n",
      " \tNoise level:3\n",
      "Body: \n",
      " \tSize: Medium Range Rover\n"
     ]
    }
   ],
   "source": [
    "class Tyres:\n",
    "    \n",
    "    def __init__(self,branch, belted_bias, opt_pressure):\n",
    "        self.branch = branch\n",
    "        self.belted_bias = belted_bias\n",
    "        self.opt_pressure = opt_pressure\n",
    "        \n",
    "    def __str__(self):\n",
    "        return (\"Tyres: \\n \\tBranch: \"+ self.branch + \"\\n \\tBelted-bias: \" + str(self.belted_bias) + \"\\n \\tOptimal pressure: \" + str(self.opt_pressure))\n",
    "    \n",
    "    \n",
    "class Engine:\n",
    "    \n",
    "    def __init__(self,fuel_type, noise_level):\n",
    "        self.fuel_type = fuel_type\n",
    "        self.noise_level = noise_level\n",
    "        \n",
    "    def __str__(self):\n",
    "        return (\"Engine: \\n \\tFuel type: \" + self.fuel_type + \"\\n \\tNoise level:\" + str(self.noise_level))\n",
    "    \n",
    "    \n",
    "class Body:\n",
    "    \n",
    "    def __init__(self,size):\n",
    "        self.size = size\n",
    "        \n",
    "    def __str__(self):\n",
    "        return \"Body: \\n \\tSize: \" + self.size\n",
    "    \n",
    "    \n",
    "class Car:\n",
    "    \n",
    "    def __init__(self, name, tyres, engine, body):\n",
    "        self.name = name\n",
    "        self.tyres = tyres\n",
    "        self.engine = engine\n",
    "        self.body = body\n",
    "        \n",
    "    def __str__(self):\n",
    "        return str(self.tyres) + \"\\n\" + str(self.engine) + \"\\n\" + str(self.body) + \" \" + str(self.name)\n",
    "  \n",
    "\n",
    "t = Tyres(\"Pirelli\",True,2.0)\n",
    "e = Engine(\"Diesel\", 3)\n",
    "b = Body(\"Medium\")\n",
    "c = Car(\"Range Rover\", t, e, b)\n",
    "print(c)"
   ]
  },
  {
   "cell_type": "code",
   "execution_count": 202,
   "metadata": {},
   "outputs": [],
   "source": [
    "class parent:\n",
    "     \n",
    "    a = 10 \n",
    "    b = 40\n",
    "    \n",
    "    def __init__(self,parent_a, parent_b):\n",
    "        self.parent_a = parent_a\n",
    "        self.parent_b = parent_b\n",
    "        \n",
    "class child(parent):\n",
    "     \n",
    "    def __init(self,*args):\n",
    "        super(child,self).__init__(*args)"
   ]
  },
  {
   "cell_type": "code",
   "execution_count": 210,
   "metadata": {},
   "outputs": [
    {
     "name": "stdout",
     "output_type": "stream",
     "text": [
      "Rocky is a German born in 1954.\n"
     ]
    }
   ],
   "source": [
    "class Dog:\n",
    "    \n",
    "    def __init__(self,name,year_of_birth,breed):\n",
    "        self._name = name\n",
    "        self._year_of_birth = year_of_birth\n",
    "        self._breed = breed\n",
    "        \n",
    "    def __str__(self):\n",
    "        return \"%s is a %s born in %d.\" % (self._name,self._breed, self._year_of_birth)\n",
    "    \n",
    "a = Dog(\"Rocky\",1954,\"German\")\n",
    "dog1 = Dog(\"JACK\",1980,\"PitBull\")\n",
    "dog2 = Dog(\"JACK\",1980,\"PitBull\")\n",
    "dog3 = Dog(\"JACK\",1980,\"PitBull\")\n",
    "dog4 = Dog(\"JACK\",1980,\"PitBull\")\n",
    "dog5 = Dog(\"JACK\",1980,\"PitBull\")\n",
    "dog6 = Dog(\"JACK\",1980,\"PitBull\")\n",
    "print(a)"
   ]
  },
  {
   "cell_type": "code",
   "execution_count": 211,
   "metadata": {},
   "outputs": [],
   "source": [
    "class student:\n",
    "    \n",
    "    def __init__(self, name, student_id, school_name, address):\n",
    "        self.name = name\n",
    "        self.student_id = student_id\n",
    "        self.school_name = school_name\n",
    "        self.address = address\n",
    "        \n",
    "    def __str__(self):\n",
    "        return str(self.name) + \" \" + str(self.student_id)+ \" \" + str(self.school_name)+ \" \" + str(self.address)"
   ]
  },
  {
   "cell_type": "code",
   "execution_count": 212,
   "metadata": {},
   "outputs": [],
   "source": [
    "stu = student(\"prince\",245,\"C-DAC\",\"India\")"
   ]
  },
  {
   "cell_type": "code",
   "execution_count": 213,
   "metadata": {},
   "outputs": [
    {
     "name": "stdout",
     "output_type": "stream",
     "text": [
      "prince 245 C-DAC India\n"
     ]
    }
   ],
   "source": [
    "print(stu)"
   ]
  },
  {
   "cell_type": "code",
   "execution_count": 214,
   "metadata": {},
   "outputs": [
    {
     "name": "stdout",
     "output_type": "stream",
     "text": [
      "Rocky is a German born in 1954. 45 dog_sch India\n"
     ]
    }
   ],
   "source": [
    "dog = student(a, 45, \"dog_sch\", \"India\")\n",
    "print(dog)"
   ]
  },
  {
   "cell_type": "code",
   "execution_count": 215,
   "metadata": {},
   "outputs": [
    {
     "name": "stdout",
     "output_type": "stream",
     "text": [
      "JACK is a PitBull born in 1980. 454 dog_sch1 India\n"
     ]
    }
   ],
   "source": [
    "dogo = student(dog1, 454, \"dog_sch1\", \"India\")\n",
    "print(dogo)"
   ]
  },
  {
   "cell_type": "code",
   "execution_count": 219,
   "metadata": {},
   "outputs": [
    {
     "name": "stdout",
     "output_type": "stream",
     "text": [
      "Tyson is a Wolf born in 1991. 7 Saolin India\n"
     ]
    }
   ],
   "source": [
    "dogo = student(Dog(\"Tyson\",1991,\"Wolf\"), 7, \"Saolin\", \"India\")\n",
    "print(dogo)"
   ]
  },
  {
   "cell_type": "code",
   "execution_count": 234,
   "metadata": {},
   "outputs": [],
   "source": [
    "class BonusDistribution:\n",
    "    \n",
    "    def __init__(self, employeeId, employeeRating):\n",
    "        \n",
    "        self.empId = employeeId\n",
    "        self.empRating = employeeRating\n",
    "        self.__bonusforRatingA = \"70%\"  #making value private\n",
    "        self.__bonusforRatingB = \"60%\"  #making value private\n",
    "        self.__bonusforRatingC = \"50%\"  #making value private\n",
    "        self.__bonusforRatingD = \"30%\"  #making value private\n",
    "        self.__bonusforRatingforRest = \"No Bonus\"  #making value private\n",
    "        \n",
    "    def bonusCalculator(self):\n",
    "        \n",
    "        if self.empRating == \"A\":\n",
    "            bonus = self.__bonusforRatingA\n",
    "            msg = \"Bonus for this employee is :\"+ bonus\n",
    "            return msg\n",
    "        elif self.empRating == \"B\":\n",
    "            bonus = self.__bonusforRatingB\n",
    "            msg = \"Bonus for this employee is :\"+ bonus\n",
    "            return msg\n",
    "        elif self.empRating == \"C\":\n",
    "            bonus = self.__bonusforRatingC\n",
    "            msg = \"Bonus for this employee is :\"+ bonus\n",
    "            return msg\n",
    "        elif self.empRating == \"D\":\n",
    "            bonus = self.__bonusforRatingD\n",
    "            msg = \"Bonus for this employee is :\"+ bonus\n",
    "            return msg\n",
    "        else:\n",
    "            bonus = self.__bonusforRatingforRest\n",
    "            msg = \"Bonus for this employee is :\"+ bonus\n",
    "            return msg"
   ]
  },
  {
   "cell_type": "code",
   "execution_count": 235,
   "metadata": {},
   "outputs": [],
   "source": [
    "emp1 = BonusDistribution(1232,\"B\")\n",
    "emp2 = BonusDistribution(1342,\"A\")\n",
    "emp3 = BonusDistribution(1031,\"E\")"
   ]
  },
  {
   "cell_type": "code",
   "execution_count": 236,
   "metadata": {},
   "outputs": [
    {
     "data": {
      "text/plain": [
       "'Bonus for this employee is :70%'"
      ]
     },
     "execution_count": 236,
     "metadata": {},
     "output_type": "execute_result"
    }
   ],
   "source": [
    "emp2.bonusCalculator()"
   ]
  },
  {
   "cell_type": "code",
   "execution_count": 237,
   "metadata": {},
   "outputs": [
    {
     "data": {
      "text/plain": [
       "'Bonus for this employee is :No Bonus'"
      ]
     },
     "execution_count": 237,
     "metadata": {},
     "output_type": "execute_result"
    }
   ],
   "source": [
    "emp3.bonusCalculator()"
   ]
  },
  {
   "cell_type": "code",
   "execution_count": 238,
   "metadata": {},
   "outputs": [
    {
     "data": {
      "text/plain": [
       "'Bonus for this employee is :60%'"
      ]
     },
     "execution_count": 238,
     "metadata": {},
     "output_type": "execute_result"
    }
   ],
   "source": [
    "emp1.bonusCalculator()"
   ]
  },
  {
   "cell_type": "code",
   "execution_count": 239,
   "metadata": {},
   "outputs": [
    {
     "data": {
      "text/plain": [
       "'Bonus for this employee is :60%'"
      ]
     },
     "execution_count": 239,
     "metadata": {},
     "output_type": "execute_result"
    }
   ],
   "source": [
    "emp1._bonusforRatingB = \"90%\"\n",
    "emp1.bonusCalculator()"
   ]
  },
  {
   "cell_type": "code",
   "execution_count": 240,
   "metadata": {},
   "outputs": [
    {
     "data": {
      "text/plain": [
       "'Bonus for this employee is :90%'"
      ]
     },
     "execution_count": 240,
     "metadata": {},
     "output_type": "execute_result"
    }
   ],
   "source": [
    "emp1._BonusDistribution__bonusforRatingB = \"90%\"\n",
    "emp1.bonusCalculator()"
   ]
  },
  {
   "cell_type": "code",
   "execution_count": 251,
   "metadata": {},
   "outputs": [],
   "source": [
    "class BonusDistribution:\n",
    "    \n",
    "    def __init__(self, employeeId, employeeRating):\n",
    "        \n",
    "        self.empId = employeeId\n",
    "        self.empRating = employeeRating\n",
    "        self.__bonusforRatingA = \"70%\"  #making value private\n",
    "        self.__bonusforRatingB = \"60%\"  #making value private\n",
    "        self.__bonusforRatingC = \"50%\"  #making value private\n",
    "        self.__bonusforRatingD = \"30%\"  #making value private\n",
    "        self.__bonusforRatingforRest = \"No Bonus\"  #making value private\n",
    "        \n",
    "    def bonusCalculator(self):\n",
    "        \n",
    "        if self.empRating == \"A\":\n",
    "            bonus = self.__bonusforRatingA\n",
    "            msg = \"Bonus for this employee is :\"+ bonus\n",
    "            return msg\n",
    "        elif self.empRating == \"B\":\n",
    "            bonus = self.__bonusforRatingB\n",
    "            msg = \"Bonus for this employee is :\"+ bonus\n",
    "            return msg\n",
    "        elif self.empRating == \"C\":\n",
    "            bonus = self.__bonusforRatingC\n",
    "            msg = \"Bonus for this employee is :\"+ bonus\n",
    "            return msg\n",
    "        elif self.empRating == \"D\":\n",
    "            bonus = self.__bonusforRatingD\n",
    "            msg = \"Bonus for this employee is :\"+ bonus\n",
    "            return msg\n",
    "        else:\n",
    "            bonus = self.__bonusforRatingforRest\n",
    "            msg = \"Bonus for this employee is :\"+ bonus\n",
    "            return msg\n",
    "    \n",
    "    def changevariable(self, value):\n",
    "        self.__bonusforRatingB = value"
   ]
  },
  {
   "cell_type": "code",
   "execution_count": 256,
   "metadata": {},
   "outputs": [],
   "source": [
    "emp1 = BonusDistribution(1232,\"B\")\n",
    "emp2 = BonusDistribution(1342,\"B\")\n",
    "emp3 = BonusDistribution(1031,\"E\")"
   ]
  },
  {
   "cell_type": "code",
   "execution_count": 257,
   "metadata": {},
   "outputs": [],
   "source": [
    "emp1.changevariable(\"85%\")"
   ]
  },
  {
   "cell_type": "code",
   "execution_count": 258,
   "metadata": {},
   "outputs": [
    {
     "data": {
      "text/plain": [
       "'Bonus for this employee is :85%'"
      ]
     },
     "execution_count": 258,
     "metadata": {},
     "output_type": "execute_result"
    }
   ],
   "source": [
    "emp1.bonusCalculator()"
   ]
  },
  {
   "cell_type": "code",
   "execution_count": 259,
   "metadata": {},
   "outputs": [
    {
     "data": {
      "text/plain": [
       "'Bonus for this employee is :60%'"
      ]
     },
     "execution_count": 259,
     "metadata": {},
     "output_type": "execute_result"
    }
   ],
   "source": [
    "emp2.bonusCalculator()"
   ]
  },
  {
   "cell_type": "code",
   "execution_count": 260,
   "metadata": {},
   "outputs": [],
   "source": [
    "class BonusDistribution:\n",
    "    \n",
    "    def __init__(self, employeeId, employeeRating):\n",
    "        \n",
    "        self.empId = employeeId\n",
    "        self.empRating = employeeRating\n",
    "        self.__bonusforRatingA = \"70%\"  #making value private\n",
    "        self.__bonusforRatingB = \"60%\"  #making value private\n",
    "        self.__bonusforRatingC = \"50%\"  #making value private\n",
    "        self.__bonusforRatingD = \"30%\"  #making value private\n",
    "        self.__bonusforRatingforRest = \"No Bonus\"  #making value private\n",
    "        \n",
    "    def bonusCalculator(self):\n",
    "        \n",
    "        if self.empRating == \"A\":\n",
    "            bonus = self.__bonusforRatingA\n",
    "            msg = \"Bonus for this employee is :\"+ bonus\n",
    "            return msg\n",
    "        elif self.empRating == \"B\":\n",
    "            bonus = self.__bonusforRatingB\n",
    "            msg = \"Bonus for this employee is :\"+ bonus\n",
    "            return msg\n",
    "        elif self.empRating == \"C\":\n",
    "            bonus = self.__bonusforRatingC\n",
    "            msg = \"Bonus for this employee is :\"+ bonus\n",
    "            return msg\n",
    "        elif self.empRating == \"D\":\n",
    "            bonus = self.__bonusforRatingD\n",
    "            msg = \"Bonus for this employee is :\"+ bonus\n",
    "            return msg\n",
    "        else:\n",
    "            bonus = self.__bonusforRatingforRest\n",
    "            msg = \"Bonus for this employee is :\"+ bonus\n",
    "            return msg\n",
    "    \n",
    "    def __changevariable(self, value):\n",
    "        self.__bonusforRatingB = value"
   ]
  },
  {
   "cell_type": "code",
   "execution_count": 261,
   "metadata": {},
   "outputs": [],
   "source": [
    "emp1 = BonusDistribution(1232,\"B\")\n",
    "emp2 = BonusDistribution(1342,\"B\")\n",
    "emp3 = BonusDistribution(1031,\"E\")"
   ]
  },
  {
   "cell_type": "code",
   "execution_count": 263,
   "metadata": {},
   "outputs": [],
   "source": [
    "emp2._BonusDistribution__changevariable(\"67%\")"
   ]
  },
  {
   "cell_type": "code",
   "execution_count": 264,
   "metadata": {},
   "outputs": [
    {
     "data": {
      "text/plain": [
       "'Bonus for this employee is :67%'"
      ]
     },
     "execution_count": 264,
     "metadata": {},
     "output_type": "execute_result"
    }
   ],
   "source": [
    "emp2.bonusCalculator()"
   ]
  },
  {
   "cell_type": "code",
   "execution_count": 265,
   "metadata": {},
   "outputs": [],
   "source": [
    "class multiplynumeric():\n",
    "    \n",
    "    def __init__(self,a):\n",
    "        self.a = a"
   ]
  },
  {
   "cell_type": "code",
   "execution_count": 266,
   "metadata": {},
   "outputs": [],
   "source": [
    "mul = multiplynumeric(9)\n",
    "mul1 = multiplynumeric(2)"
   ]
  },
  {
   "cell_type": "code",
   "execution_count": 267,
   "metadata": {},
   "outputs": [
    {
     "ename": "TypeError",
     "evalue": "unsupported operand type(s) for *: 'multiplynumeric' and 'multiplynumeric'",
     "output_type": "error",
     "traceback": [
      "\u001b[0;31m---------------------------------------------------------------------------\u001b[0m",
      "\u001b[0;31mTypeError\u001b[0m                                 Traceback (most recent call last)",
      "\u001b[0;32m<ipython-input-267-5c2d38e00671>\u001b[0m in \u001b[0;36m<module>\u001b[0;34m\u001b[0m\n\u001b[0;32m----> 1\u001b[0;31m \u001b[0mmul\u001b[0m \u001b[0;34m*\u001b[0m \u001b[0mmul1\u001b[0m\u001b[0;34m\u001b[0m\u001b[0;34m\u001b[0m\u001b[0m\n\u001b[0m",
      "\u001b[0;31mTypeError\u001b[0m: unsupported operand type(s) for *: 'multiplynumeric' and 'multiplynumeric'"
     ]
    }
   ],
   "source": [
    "mul * mul1"
   ]
  },
  {
   "cell_type": "code",
   "execution_count": 270,
   "metadata": {},
   "outputs": [
    {
     "data": {
      "text/plain": [
       "18"
      ]
     },
     "execution_count": 270,
     "metadata": {},
     "output_type": "execute_result"
    }
   ],
   "source": [
    "mul.a * mul1.a"
   ]
  },
  {
   "cell_type": "code",
   "execution_count": 274,
   "metadata": {},
   "outputs": [],
   "source": [
    "class multiplynumeric():\n",
    "    \n",
    "    def __init__(self,a):\n",
    "        self.a = a\n",
    "        \n",
    "    def __mul__(self,other):\n",
    "        \n",
    "        return self.a * other.a"
   ]
  },
  {
   "cell_type": "code",
   "execution_count": 275,
   "metadata": {},
   "outputs": [],
   "source": [
    "mul = multiplynumeric(9)\n",
    "mul1 = multiplynumeric(2)"
   ]
  },
  {
   "cell_type": "code",
   "execution_count": 276,
   "metadata": {},
   "outputs": [
    {
     "data": {
      "text/plain": [
       "18"
      ]
     },
     "execution_count": 276,
     "metadata": {},
     "output_type": "execute_result"
    }
   ],
   "source": [
    "mul * mul1"
   ]
  },
  {
   "cell_type": "code",
   "execution_count": 277,
   "metadata": {},
   "outputs": [
    {
     "ename": "TypeError",
     "evalue": "unsupported operand type(s) for +: 'multiplynumeric' and 'multiplynumeric'",
     "output_type": "error",
     "traceback": [
      "\u001b[0;31m---------------------------------------------------------------------------\u001b[0m",
      "\u001b[0;31mTypeError\u001b[0m                                 Traceback (most recent call last)",
      "\u001b[0;32m<ipython-input-277-8f62515cc26a>\u001b[0m in \u001b[0;36m<module>\u001b[0;34m\u001b[0m\n\u001b[0;32m----> 1\u001b[0;31m \u001b[0mmul\u001b[0m \u001b[0;34m+\u001b[0m \u001b[0mmul1\u001b[0m\u001b[0;34m\u001b[0m\u001b[0;34m\u001b[0m\u001b[0m\n\u001b[0m",
      "\u001b[0;31mTypeError\u001b[0m: unsupported operand type(s) for +: 'multiplynumeric' and 'multiplynumeric'"
     ]
    }
   ],
   "source": [
    "mul + mul1"
   ]
  },
  {
   "cell_type": "markdown",
   "metadata": {},
   "source": [
    "# Operator overloading"
   ]
  },
  {
   "cell_type": "code",
   "execution_count": 285,
   "metadata": {},
   "outputs": [],
   "source": [
    "class multiplynumeric():\n",
    "    \n",
    "    def __init__(self,a):\n",
    "        self.a = a\n",
    "        \n",
    "    def __mul__(self,other):\n",
    "        \n",
    "        return self.a + other.a"
   ]
  },
  {
   "cell_type": "code",
   "execution_count": 286,
   "metadata": {},
   "outputs": [],
   "source": [
    "mul = multiplynumeric(9)\n",
    "mul1 = multiplynumeric(2)"
   ]
  },
  {
   "cell_type": "code",
   "execution_count": 287,
   "metadata": {},
   "outputs": [
    {
     "data": {
      "text/plain": [
       "11"
      ]
     },
     "execution_count": 287,
     "metadata": {},
     "output_type": "execute_result"
    }
   ],
   "source": [
    "mul * mul1"
   ]
  },
  {
   "cell_type": "markdown",
   "metadata": {},
   "source": [
    "# Polymorphism"
   ]
  },
  {
   "cell_type": "code",
   "execution_count": 288,
   "metadata": {},
   "outputs": [],
   "source": [
    "def test(a,b):\n",
    "    return a + b"
   ]
  },
  {
   "cell_type": "code",
   "execution_count": 290,
   "metadata": {},
   "outputs": [
    {
     "name": "stdout",
     "output_type": "stream",
     "text": [
      "11\n",
      "prince kumar\n",
      "[1, 2, 3, 4, 5, 6, 7, 8]\n"
     ]
    }
   ],
   "source": [
    "print(test(5,6))\n",
    "print(test(\"prince \",\"kumar\"))\n",
    "print(test([1,2,3,4],[5,6,7,8]))"
   ]
  },
  {
   "cell_type": "code",
   "execution_count": 292,
   "metadata": {},
   "outputs": [],
   "source": [
    "class cdac:\n",
    "    \n",
    "    def msg(self):\n",
    "        print(\"this is a msg to cdac \")\n",
    "        \n",
    "class xyz:\n",
    "    \n",
    "    def msg(self):\n",
    "        print(\"this is a msg to xyz\")"
   ]
  },
  {
   "cell_type": "code",
   "execution_count": 293,
   "metadata": {},
   "outputs": [],
   "source": [
    "def test(notes):\n",
    "    notes.msg()"
   ]
  },
  {
   "cell_type": "code",
   "execution_count": 294,
   "metadata": {},
   "outputs": [],
   "source": [
    "c = cdac()\n",
    "x = xyz()"
   ]
  },
  {
   "cell_type": "code",
   "execution_count": 295,
   "metadata": {},
   "outputs": [
    {
     "name": "stdout",
     "output_type": "stream",
     "text": [
      "this is a msg to cdac \n"
     ]
    }
   ],
   "source": [
    "test(c)"
   ]
  },
  {
   "cell_type": "code",
   "execution_count": 296,
   "metadata": {},
   "outputs": [
    {
     "name": "stdout",
     "output_type": "stream",
     "text": [
      "this is a msg to xyz\n"
     ]
    }
   ],
   "source": [
    "test(x)"
   ]
  },
  {
   "cell_type": "code",
   "execution_count": null,
   "metadata": {},
   "outputs": [],
   "source": []
  }
 ],
 "metadata": {
  "kernelspec": {
   "display_name": "Python 3",
   "language": "python",
   "name": "python3"
  },
  "language_info": {
   "codemirror_mode": {
    "name": "ipython",
    "version": 3
   },
   "file_extension": ".py",
   "mimetype": "text/x-python",
   "name": "python",
   "nbconvert_exporter": "python",
   "pygments_lexer": "ipython3",
   "version": "3.7.3"
  }
 },
 "nbformat": 4,
 "nbformat_minor": 2
}
