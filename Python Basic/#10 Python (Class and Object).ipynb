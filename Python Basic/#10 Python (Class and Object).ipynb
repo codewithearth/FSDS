{
 "cells": [
  {
   "cell_type": "code",
   "execution_count": 1,
   "metadata": {},
   "outputs": [
    {
     "ename": "SyntaxError",
     "evalue": "unexpected EOF while parsing (<ipython-input-1-5aad021947d7>, line 1)",
     "output_type": "error",
     "traceback": [
      "\u001b[0;36m  File \u001b[0;32m\"<ipython-input-1-5aad021947d7>\"\u001b[0;36m, line \u001b[0;32m1\u001b[0m\n\u001b[0;31m    class car:\u001b[0m\n\u001b[0m              ^\u001b[0m\n\u001b[0;31mSyntaxError\u001b[0m\u001b[0;31m:\u001b[0m unexpected EOF while parsing\n"
     ]
    }
   ],
   "source": [
    "class car:"
   ]
  },
  {
   "cell_type": "code",
   "execution_count": 2,
   "metadata": {},
   "outputs": [],
   "source": [
    "class car:\n",
    "    pass"
   ]
  },
  {
   "cell_type": "code",
   "execution_count": 3,
   "metadata": {},
   "outputs": [],
   "source": [
    "audiq7 = car()"
   ]
  },
  {
   "cell_type": "code",
   "execution_count": 4,
   "metadata": {},
   "outputs": [
    {
     "data": {
      "text/plain": [
       "<__main__.car at 0x7f9c04034710>"
      ]
     },
     "execution_count": 4,
     "metadata": {},
     "output_type": "execute_result"
    }
   ],
   "source": [
    "audiq7"
   ]
  },
  {
   "cell_type": "code",
   "execution_count": 5,
   "metadata": {},
   "outputs": [],
   "source": [
    "audiq7.milage = 10\n",
    "audiq7.year = 2021\n",
    "audiq7.make = 524\n",
    "audiq7.model = \"wfce\""
   ]
  },
  {
   "cell_type": "code",
   "execution_count": 6,
   "metadata": {},
   "outputs": [
    {
     "data": {
      "text/plain": [
       "10"
      ]
     },
     "execution_count": 6,
     "metadata": {},
     "output_type": "execute_result"
    }
   ],
   "source": [
    "audiq7.milage"
   ]
  },
  {
   "cell_type": "code",
   "execution_count": 7,
   "metadata": {},
   "outputs": [
    {
     "ename": "NameError",
     "evalue": "name 'milage' is not defined",
     "output_type": "error",
     "traceback": [
      "\u001b[0;31m---------------------------------------------------------------------------\u001b[0m",
      "\u001b[0;31mNameError\u001b[0m                                 Traceback (most recent call last)",
      "\u001b[0;32m<ipython-input-7-e6d08bcec70d>\u001b[0m in \u001b[0;36m<module>\u001b[0;34m\u001b[0m\n\u001b[0;32m----> 1\u001b[0;31m \u001b[0mmilage\u001b[0m\u001b[0;34m\u001b[0m\u001b[0;34m\u001b[0m\u001b[0m\n\u001b[0m",
      "\u001b[0;31mNameError\u001b[0m: name 'milage' is not defined"
     ]
    }
   ],
   "source": [
    "milage"
   ]
  },
  {
   "cell_type": "code",
   "execution_count": 8,
   "metadata": {},
   "outputs": [
    {
     "data": {
      "text/plain": [
       "2021"
      ]
     },
     "execution_count": 8,
     "metadata": {},
     "output_type": "execute_result"
    }
   ],
   "source": [
    "audiq7.year"
   ]
  },
  {
   "cell_type": "code",
   "execution_count": 9,
   "metadata": {},
   "outputs": [],
   "source": [
    "nano  = car()"
   ]
  },
  {
   "cell_type": "code",
   "execution_count": 10,
   "metadata": {},
   "outputs": [],
   "source": [
    "nano.milage = 20\n",
    "nano.year = 2021\n",
    "nano.make = 246\n",
    "nano.model = \"wdsdas\"\n",
    "nano.enginno = 4658766666666"
   ]
  },
  {
   "cell_type": "code",
   "execution_count": 11,
   "metadata": {},
   "outputs": [
    {
     "name": "stdout",
     "output_type": "stream",
     "text": [
      "20 10\n"
     ]
    }
   ],
   "source": [
    "print(nano.milage,audiq7.milage)"
   ]
  },
  {
   "cell_type": "code",
   "execution_count": 12,
   "metadata": {},
   "outputs": [],
   "source": [
    "class car:\n",
    "    \n",
    "    def __init__(self,milage,year,make,model):\n",
    "        self.milage = milage\n",
    "        self.year = year\n",
    "        self.make = make\n",
    "        self.model = model"
   ]
  },
  {
   "cell_type": "code",
   "execution_count": 13,
   "metadata": {},
   "outputs": [
    {
     "ename": "TypeError",
     "evalue": "__init__() missing 4 required positional arguments: 'milage', 'year', 'make', and 'model'",
     "output_type": "error",
     "traceback": [
      "\u001b[0;31m---------------------------------------------------------------------------\u001b[0m",
      "\u001b[0;31mTypeError\u001b[0m                                 Traceback (most recent call last)",
      "\u001b[0;32m<ipython-input-13-16870c6ee572>\u001b[0m in \u001b[0;36m<module>\u001b[0;34m\u001b[0m\n\u001b[0;32m----> 1\u001b[0;31m \u001b[0mnano1\u001b[0m \u001b[0;34m=\u001b[0m \u001b[0mcar\u001b[0m\u001b[0;34m(\u001b[0m\u001b[0;34m)\u001b[0m\u001b[0;34m\u001b[0m\u001b[0;34m\u001b[0m\u001b[0m\n\u001b[0m",
      "\u001b[0;31mTypeError\u001b[0m: __init__() missing 4 required positional arguments: 'milage', 'year', 'make', and 'model'"
     ]
    }
   ],
   "source": [
    "nano1 = car()"
   ]
  },
  {
   "cell_type": "code",
   "execution_count": 15,
   "metadata": {},
   "outputs": [],
   "source": [
    "nano1 = car(20,2020,354562,\"352thr\")\n",
    "audiq71 = car(10,2020,545,\"uhrtfdy\")\n",
    "nano2 = car(20,2020,354562,\"352thr\")\n",
    "audiq7164 = car(10,2020,545,\"uhrtfdy\")\n",
    "nano3 = car(20,2020,354562,\"352thr\")\n",
    "audiq71415 = car(10,2020,545,\"uhrtfdy\")\n",
    "nano4 = car(20,2020,354562,\"352thr\")\n",
    "audiq7154 = car(10,2020,545,\"uhrtfdy\")\n",
    "nano5 = car(20,2020,354562,\"352thr\")\n",
    "audiq71451 = car(10,2020,545,\"uhrtfdy\")\n",
    "nano6 = car(20,2020,354562,\"352thr\")\n",
    "audiq715452 = car(10,2020,545,\"uhrtfdy\")"
   ]
  },
  {
   "cell_type": "code",
   "execution_count": 20,
   "metadata": {},
   "outputs": [
    {
     "data": {
      "text/plain": [
       "20"
      ]
     },
     "execution_count": 20,
     "metadata": {},
     "output_type": "execute_result"
    }
   ],
   "source": [
    "nano1.milage"
   ]
  },
  {
   "cell_type": "code",
   "execution_count": 21,
   "metadata": {},
   "outputs": [],
   "source": [
    "class car:\n",
    "    \n",
    "    def __init__(a,milage,year,make,model):\n",
    "        a.milage = milage\n",
    "        a.year = year\n",
    "        a.make = make\n",
    "        a.model = model"
   ]
  },
  {
   "cell_type": "code",
   "execution_count": 22,
   "metadata": {},
   "outputs": [],
   "source": [
    "nano67 = car(20,2020,43563,\"dwsdfce\")"
   ]
  },
  {
   "cell_type": "code",
   "execution_count": 23,
   "metadata": {},
   "outputs": [
    {
     "data": {
      "text/plain": [
       "20"
      ]
     },
     "execution_count": 23,
     "metadata": {},
     "output_type": "execute_result"
    }
   ],
   "source": [
    "nano67.milage"
   ]
  },
  {
   "cell_type": "code",
   "execution_count": 24,
   "metadata": {},
   "outputs": [],
   "source": [
    "class car:\n",
    "    \n",
    "    def __init__(a,m,y,ma,mo):\n",
    "        a.milage = m\n",
    "        a.year = y\n",
    "        a.make = ma\n",
    "        a.model = mo"
   ]
  },
  {
   "cell_type": "code",
   "execution_count": 25,
   "metadata": {},
   "outputs": [],
   "source": [
    "nano67 = car(20,2020,43563,\"dwsdfce\")"
   ]
  },
  {
   "cell_type": "code",
   "execution_count": 27,
   "metadata": {},
   "outputs": [
    {
     "ename": "AttributeError",
     "evalue": "'car' object has no attribute 'm'",
     "output_type": "error",
     "traceback": [
      "\u001b[0;31m---------------------------------------------------------------------------\u001b[0m",
      "\u001b[0;31mAttributeError\u001b[0m                            Traceback (most recent call last)",
      "\u001b[0;32m<ipython-input-27-2b42517aaf19>\u001b[0m in \u001b[0;36m<module>\u001b[0;34m\u001b[0m\n\u001b[0;32m----> 1\u001b[0;31m \u001b[0mnano67\u001b[0m\u001b[0;34m.\u001b[0m\u001b[0mm\u001b[0m\u001b[0;34m\u001b[0m\u001b[0;34m\u001b[0m\u001b[0m\n\u001b[0m",
      "\u001b[0;31mAttributeError\u001b[0m: 'car' object has no attribute 'm'"
     ]
    }
   ],
   "source": [
    "nano67.m"
   ]
  },
  {
   "cell_type": "code",
   "execution_count": 28,
   "metadata": {},
   "outputs": [
    {
     "data": {
      "text/plain": [
       "20"
      ]
     },
     "execution_count": 28,
     "metadata": {},
     "output_type": "execute_result"
    }
   ],
   "source": [
    "nano67.milage"
   ]
  },
  {
   "cell_type": "code",
   "execution_count": 29,
   "metadata": {},
   "outputs": [],
   "source": [
    "class car:\n",
    "    \n",
    "    def __init__(a,m,y,ma,mo):\n",
    "        a.milage = m\n",
    "        a.year = y\n",
    "        a.make = ma\n",
    "        a.model = mo\n",
    "        \n",
    "    def age(self,current_year):\n",
    "        return current_year - a.year"
   ]
  },
  {
   "cell_type": "code",
   "execution_count": 30,
   "metadata": {},
   "outputs": [],
   "source": [
    "nano67 = car(20,2020,43563,\"dwsdfce\")"
   ]
  },
  {
   "cell_type": "code",
   "execution_count": 31,
   "metadata": {},
   "outputs": [
    {
     "data": {
      "text/plain": [
       "20"
      ]
     },
     "execution_count": 31,
     "metadata": {},
     "output_type": "execute_result"
    }
   ],
   "source": [
    "nano67.milage"
   ]
  },
  {
   "cell_type": "code",
   "execution_count": 32,
   "metadata": {},
   "outputs": [
    {
     "ename": "NameError",
     "evalue": "name 'a' is not defined",
     "output_type": "error",
     "traceback": [
      "\u001b[0;31m---------------------------------------------------------------------------\u001b[0m",
      "\u001b[0;31mNameError\u001b[0m                                 Traceback (most recent call last)",
      "\u001b[0;32m<ipython-input-32-56a589986ea3>\u001b[0m in \u001b[0;36m<module>\u001b[0;34m\u001b[0m\n\u001b[0;32m----> 1\u001b[0;31m \u001b[0mnano67\u001b[0m\u001b[0;34m.\u001b[0m\u001b[0mage\u001b[0m\u001b[0;34m(\u001b[0m\u001b[0;36m2021\u001b[0m\u001b[0;34m)\u001b[0m\u001b[0;34m\u001b[0m\u001b[0;34m\u001b[0m\u001b[0m\n\u001b[0m",
      "\u001b[0;32m<ipython-input-29-dd3c2e585ff7>\u001b[0m in \u001b[0;36mage\u001b[0;34m(self, current_year)\u001b[0m\n\u001b[1;32m      8\u001b[0m \u001b[0;34m\u001b[0m\u001b[0m\n\u001b[1;32m      9\u001b[0m     \u001b[0;32mdef\u001b[0m \u001b[0mage\u001b[0m\u001b[0;34m(\u001b[0m\u001b[0mself\u001b[0m\u001b[0;34m,\u001b[0m\u001b[0mcurrent_year\u001b[0m\u001b[0;34m)\u001b[0m\u001b[0;34m:\u001b[0m\u001b[0;34m\u001b[0m\u001b[0;34m\u001b[0m\u001b[0m\n\u001b[0;32m---> 10\u001b[0;31m         \u001b[0;32mreturn\u001b[0m \u001b[0mcurrent_year\u001b[0m \u001b[0;34m-\u001b[0m \u001b[0ma\u001b[0m\u001b[0;34m.\u001b[0m\u001b[0myear\u001b[0m\u001b[0;34m\u001b[0m\u001b[0;34m\u001b[0m\u001b[0m\n\u001b[0m",
      "\u001b[0;31mNameError\u001b[0m: name 'a' is not defined"
     ]
    }
   ],
   "source": [
    "nano67.age(2021)"
   ]
  },
  {
   "cell_type": "code",
   "execution_count": 39,
   "metadata": {},
   "outputs": [],
   "source": [
    "class car:\n",
    "    \n",
    "    def __init__(a,m,y,ma,mo):\n",
    "        a.milage = m\n",
    "        a.year = y\n",
    "        a.make = ma\n",
    "        a.model = mo\n",
    "        \n",
    "    def age(self,current_year):\n",
    "        return current_year - self.year"
   ]
  },
  {
   "cell_type": "code",
   "execution_count": 40,
   "metadata": {},
   "outputs": [],
   "source": [
    "nano67 = car(20,2020,43563,\"dwsdfce\")"
   ]
  },
  {
   "cell_type": "code",
   "execution_count": 41,
   "metadata": {},
   "outputs": [
    {
     "data": {
      "text/plain": [
       "1"
      ]
     },
     "execution_count": 41,
     "metadata": {},
     "output_type": "execute_result"
    }
   ],
   "source": [
    "nano67.age(2021)"
   ]
  },
  {
   "cell_type": "code",
   "execution_count": 48,
   "metadata": {},
   "outputs": [],
   "source": [
    "class car:\n",
    "    \n",
    "    def __init__(a,m,y,ma,mo):\n",
    "        a.milage = m\n",
    "        a.year = y\n",
    "        a.make = ma\n",
    "        a.model = mo\n",
    "        \n",
    "    def age(b,current_year):\n",
    "        return current_year - b.year\n",
    "    \n",
    "    def milage1(self):\n",
    "        print(\"print a milage of car\",self.milage)\n",
    "        "
   ]
  },
  {
   "cell_type": "code",
   "execution_count": 49,
   "metadata": {},
   "outputs": [],
   "source": [
    "nano67 = car(20,2020,43563,\"dwsdfce\")"
   ]
  },
  {
   "cell_type": "code",
   "execution_count": 50,
   "metadata": {},
   "outputs": [
    {
     "name": "stdout",
     "output_type": "stream",
     "text": [
      "print a milage of car 20\n"
     ]
    }
   ],
   "source": [
    "nano67.milage1()"
   ]
  },
  {
   "cell_type": "code",
   "execution_count": 51,
   "metadata": {},
   "outputs": [
    {
     "data": {
      "text/plain": [
       "1"
      ]
     },
     "execution_count": 51,
     "metadata": {},
     "output_type": "execute_result"
    }
   ],
   "source": [
    "nano67.age(2021)"
   ]
  },
  {
   "cell_type": "code",
   "execution_count": 52,
   "metadata": {},
   "outputs": [
    {
     "data": {
      "text/plain": [
       "<__main__.car at 0x7f9c00076160>"
      ]
     },
     "execution_count": 52,
     "metadata": {},
     "output_type": "execute_result"
    }
   ],
   "source": [
    "nano67"
   ]
  },
  {
   "cell_type": "code",
   "execution_count": 54,
   "metadata": {},
   "outputs": [],
   "source": [
    "class car:\n",
    "    \n",
    "    def __init__(a,m,y,ma,mo):\n",
    "        a.milage = m\n",
    "        a.year = y\n",
    "        a.make = ma\n",
    "        a.model = mo\n",
    "        \n",
    "    def age(b,current_year):\n",
    "        return current_year - b.year\n",
    "    \n",
    "    def milage1(self):\n",
    "        print(\"print a milage of car\",self.milage)\n",
    "        \n",
    "    def __str__(c):\n",
    "        return \"this is my car class i have created\""
   ]
  },
  {
   "cell_type": "code",
   "execution_count": 55,
   "metadata": {},
   "outputs": [],
   "source": [
    "nano67 = car(20,2020,43563,\"dwsdfce\")"
   ]
  },
  {
   "cell_type": "code",
   "execution_count": 56,
   "metadata": {},
   "outputs": [
    {
     "name": "stdout",
     "output_type": "stream",
     "text": [
      "print a milage of car 20\n"
     ]
    }
   ],
   "source": [
    "nano67.milage1()"
   ]
  },
  {
   "cell_type": "code",
   "execution_count": 57,
   "metadata": {},
   "outputs": [
    {
     "data": {
      "text/plain": [
       "1"
      ]
     },
     "execution_count": 57,
     "metadata": {},
     "output_type": "execute_result"
    }
   ],
   "source": [
    "nano67.age(2021)"
   ]
  },
  {
   "cell_type": "code",
   "execution_count": 60,
   "metadata": {},
   "outputs": [
    {
     "data": {
      "text/plain": [
       "<__main__.car at 0x7f9c00056240>"
      ]
     },
     "execution_count": 60,
     "metadata": {},
     "output_type": "execute_result"
    }
   ],
   "source": [
    "nano67"
   ]
  },
  {
   "cell_type": "code",
   "execution_count": 61,
   "metadata": {},
   "outputs": [
    {
     "name": "stdout",
     "output_type": "stream",
     "text": [
      "this is my car class i have created\n"
     ]
    }
   ],
   "source": [
    "print(nano67)"
   ]
  },
  {
   "cell_type": "code",
   "execution_count": 83,
   "metadata": {},
   "outputs": [],
   "source": [
    "class student:\n",
    "    \n",
    "    def __init__(self, name, rollno, joining_date, current_topic):\n",
    "        self.name = name\n",
    "        self.rollno = rollno\n",
    "        self.joining_date = joining_date\n",
    "        self.current_topic = current_topic\n",
    "        \n",
    "    def crt_topic(self):\n",
    "        print(\"current topic discussed in my class is \", self.current_topic)\n",
    "        \n",
    "    def str_rollno(self):\n",
    "        \n",
    "        try:\n",
    "            if type(self.rollno) == str:\n",
    "                print(\"do nothing\")\n",
    "            \n",
    "            else:\n",
    "                return str(self.rollno)\n",
    "        except Exception as e:\n",
    "            \n",
    "            print(\"this is my error msg : \",e)\n",
    "            \n",
    "    def duration(self,current_date):\n",
    "        \n",
    "        print(\"duration of student in my class is \",current_date - self.joining_date)\n",
    "        \n",
    "    def __str__(self):\n",
    "        \n",
    "        return 'this is student class where they can try to input their own data and they can try to fetch it'"
   ]
  },
  {
   "cell_type": "code",
   "execution_count": 84,
   "metadata": {},
   "outputs": [
    {
     "ename": "TypeError",
     "evalue": "__init__() missing 4 required positional arguments: 'name', 'rollno', 'joining_date', and 'current_topic'",
     "output_type": "error",
     "traceback": [
      "\u001b[0;31m---------------------------------------------------------------------------\u001b[0m",
      "\u001b[0;31mTypeError\u001b[0m                                 Traceback (most recent call last)",
      "\u001b[0;32m<ipython-input-84-c20c9eb2b9fe>\u001b[0m in \u001b[0;36m<module>\u001b[0;34m\u001b[0m\n\u001b[0;32m----> 1\u001b[0;31m \u001b[0mprince\u001b[0m \u001b[0;34m=\u001b[0m \u001b[0mstudent\u001b[0m\u001b[0;34m(\u001b[0m\u001b[0;34m)\u001b[0m\u001b[0;34m\u001b[0m\u001b[0;34m\u001b[0m\u001b[0m\n\u001b[0m",
      "\u001b[0;31mTypeError\u001b[0m: __init__() missing 4 required positional arguments: 'name', 'rollno', 'joining_date', and 'current_topic'"
     ]
    }
   ],
   "source": [
    "prince = student()"
   ]
  },
  {
   "cell_type": "code",
   "execution_count": 85,
   "metadata": {},
   "outputs": [],
   "source": [
    "prince = student(\"prince\", 11062, 2021, \"oops\")"
   ]
  },
  {
   "cell_type": "code",
   "execution_count": 86,
   "metadata": {},
   "outputs": [
    {
     "name": "stdout",
     "output_type": "stream",
     "text": [
      "duration of student in my class is  1\n"
     ]
    }
   ],
   "source": [
    "prince.duration(2022)"
   ]
  },
  {
   "cell_type": "code",
   "execution_count": 87,
   "metadata": {},
   "outputs": [
    {
     "data": {
      "text/plain": [
       "'11062'"
      ]
     },
     "execution_count": 87,
     "metadata": {},
     "output_type": "execute_result"
    }
   ],
   "source": [
    "prince.str_rollno()"
   ]
  },
  {
   "cell_type": "code",
   "execution_count": 88,
   "metadata": {},
   "outputs": [
    {
     "name": "stdout",
     "output_type": "stream",
     "text": [
      "this is student class where they can try to input their own data and they can try to fetch it\n"
     ]
    }
   ],
   "source": [
    "print(prince)"
   ]
  },
  {
   "cell_type": "code",
   "execution_count": 89,
   "metadata": {},
   "outputs": [],
   "source": [
    "xyz = student(\"ashish\",\"gxfgv\",52361,54352)"
   ]
  },
  {
   "cell_type": "code",
   "execution_count": 90,
   "metadata": {},
   "outputs": [],
   "source": [
    "king = student([\"Dhruv\",\"Ashish\",\"Vivek\",\"Amit\"],[12,4,451,623],[2020,2021,2022,2019],[\"drone\",\"cyber\",\"computer vision\",\"data science\"])"
   ]
  },
  {
   "cell_type": "code",
   "execution_count": 91,
   "metadata": {},
   "outputs": [],
   "source": [
    "class student:\n",
    "    \n",
    "    def __init__(self, name, rollno, joining_date, current_topic):\n",
    "        self.name = name\n",
    "        self.rollno = rollno\n",
    "        self.joining_date = joining_date\n",
    "        self.current_topic = current_topic\n",
    "        \n",
    "    def name_parsing(self):\n",
    "        if type(self.name) == list:\n",
    "            for i in self.name:\n",
    "                print('name of student',i)\n",
    "        else:\n",
    "            print(\"provided name is not in a form of list\")\n",
    "            \n",
    "    def crt_topic(self):\n",
    "        print(\"current topic discussed in my class is \", self.current_topic)\n",
    "        \n",
    "    def str_rollno(self):\n",
    "        \n",
    "        try:\n",
    "            if type(self.rollno) == str:\n",
    "                print(\"do nothing\")\n",
    "            \n",
    "            else:\n",
    "                return str(self.rollno)\n",
    "        except Exception as e:\n",
    "            \n",
    "            print(\"this is my error msg : \",e)\n",
    "            \n",
    "    def duration(self,current_date):\n",
    "        \n",
    "        print(\"duration of student in my class is \",current_date - self.joining_date)\n",
    "        \n",
    "    def __str__(self):\n",
    "        \n",
    "        return 'this is student class where they can try to input their own data and they can try to fetch it'"
   ]
  },
  {
   "cell_type": "code",
   "execution_count": 92,
   "metadata": {},
   "outputs": [],
   "source": [
    "king = student([\"Dhruv\",\"Ashish\",\"Vivek\",\"Amit\"],[12,4,451,623],[2020,2021,2022,2019],[\"drone\",\"cyber\",\"computer vision\",\"data science\"])"
   ]
  },
  {
   "cell_type": "code",
   "execution_count": 93,
   "metadata": {},
   "outputs": [
    {
     "name": "stdout",
     "output_type": "stream",
     "text": [
      "name of student Dhruv\n",
      "name of student Ashish\n",
      "name of student Vivek\n",
      "name of student Amit\n"
     ]
    }
   ],
   "source": [
    "king.name_parsing()"
   ]
  },
  {
   "cell_type": "code",
   "execution_count": 94,
   "metadata": {},
   "outputs": [
    {
     "name": "stdout",
     "output_type": "stream",
     "text": [
      "this is student class where they can try to input their own data and they can try to fetch it\n"
     ]
    }
   ],
   "source": [
    "print(king)"
   ]
  },
  {
   "cell_type": "markdown",
   "metadata": {},
   "source": [
    "## Q1) Create class name data and create file_open(),file_read(),file_append() function inside it."
   ]
  },
  {
   "cell_type": "code",
   "execution_count": 148,
   "metadata": {},
   "outputs": [],
   "source": [
    "class data:\n",
    "    \n",
    "    def __init__(self, fileName, fileType, date, size):\n",
    "        self.file_name = fileName\n",
    "        self.file_type = fileType\n",
    "        self.date = date\n",
    "        self.size = size\n",
    "        \n",
    "    import os\n",
    "    def file_open(self):\n",
    "        if type(self.file_name) == list:\n",
    "            for i in range(len(self.file_name)):\n",
    "                if (self.file_name)[i]+\".\"+(self.file_type)[i] in os.listdir():\n",
    "                    continue\n",
    "                else:\n",
    "                    f = open((self.file_name)[i]+\".\"+(self.file_type)[i],\"w\")\n",
    "                    f.write(\"this is \"+str(i+1)+\" file \")\n",
    "                    f.close()\n",
    "                    \n",
    "        elif type(self.file_name) == str:\n",
    "            f = open((self.file_name)+\".\"+(self.file_type),\"w\")\n",
    "            f.write(\"this is my file \")\n",
    "            f.close()\n",
    "            \n",
    "    def file_read(self,name):\n",
    "        if name in os.listdir():\n",
    "            f = open(name,\"r\")\n",
    "            print(f.read())\n",
    "        else:\n",
    "            print(\"this file is not exist\")\n",
    "            \n",
    "    def file_append(self,file,data):\n",
    "        if file in os.listdir():\n",
    "            f = open(file,\"a+\")\n",
    "            f.write(data)\n",
    "            f.seek(0)\n",
    "            print(f.read())\n",
    "            f.close()\n",
    "        else:\n",
    "            print(\"this file is not exist\")"
   ]
  },
  {
   "cell_type": "code",
   "execution_count": 137,
   "metadata": {},
   "outputs": [],
   "source": [
    "import os\n",
    "os.chdir('/home/er-royalprince/All/MY DATA/Data Science/Full Stack Data Science/1. Python/Code')\n",
    "os.mkdir(\"Data\")\n",
    "os.chdir(os.getcwd()+\"/Data\")"
   ]
  },
  {
   "cell_type": "code",
   "execution_count": 138,
   "metadata": {},
   "outputs": [
    {
     "data": {
      "text/plain": [
       "'/home/er-royalprince/All/MY DATA/Data Science/Full Stack Data Science/1. Python/Code/Data'"
      ]
     },
     "execution_count": 138,
     "metadata": {},
     "output_type": "execute_result"
    }
   ],
   "source": [
    "pwd()"
   ]
  },
  {
   "cell_type": "code",
   "execution_count": 160,
   "metadata": {},
   "outputs": [],
   "source": [
    "data1 = data([\"1st\",\"2nd\",\"3rd\"],[\"txt\",\"txt\",\"txt\"],[2001,2011,2021],[40,50,60])"
   ]
  },
  {
   "cell_type": "code",
   "execution_count": 161,
   "metadata": {},
   "outputs": [
    {
     "data": {
      "text/plain": [
       "[2001, 2011, 2021]"
      ]
     },
     "execution_count": 161,
     "metadata": {},
     "output_type": "execute_result"
    }
   ],
   "source": [
    "data1.date"
   ]
  },
  {
   "cell_type": "code",
   "execution_count": 162,
   "metadata": {},
   "outputs": [
    {
     "data": {
      "text/plain": [
       "3"
      ]
     },
     "execution_count": 162,
     "metadata": {},
     "output_type": "execute_result"
    }
   ],
   "source": [
    "len(data1.file_name)"
   ]
  },
  {
   "cell_type": "code",
   "execution_count": 163,
   "metadata": {},
   "outputs": [],
   "source": [
    "data1.file_open()"
   ]
  },
  {
   "cell_type": "code",
   "execution_count": 164,
   "metadata": {},
   "outputs": [
    {
     "name": "stdout",
     "output_type": "stream",
     "text": [
      "this file is not exist\n"
     ]
    }
   ],
   "source": [
    "data1.file_read(\"xtz\")"
   ]
  },
  {
   "cell_type": "code",
   "execution_count": 165,
   "metadata": {},
   "outputs": [
    {
     "name": "stdout",
     "output_type": "stream",
     "text": [
      "this is 1 file\n"
     ]
    }
   ],
   "source": [
    "data1.file_read(\"1st.txt\")"
   ]
  },
  {
   "cell_type": "code",
   "execution_count": 166,
   "metadata": {},
   "outputs": [
    {
     "name": "stdout",
     "output_type": "stream",
     "text": [
      "this is 2 file\n"
     ]
    }
   ],
   "source": [
    "data1.file_read(\"2nd.txt\")"
   ]
  },
  {
   "cell_type": "code",
   "execution_count": 167,
   "metadata": {},
   "outputs": [
    {
     "name": "stdout",
     "output_type": "stream",
     "text": [
      "this is 3 file\n"
     ]
    }
   ],
   "source": [
    "data1.file_read(\"3rd.txt\")"
   ]
  },
  {
   "cell_type": "code",
   "execution_count": 168,
   "metadata": {},
   "outputs": [
    {
     "name": "stdout",
     "output_type": "stream",
     "text": [
      "this is 1 file and i created this in 2001\n"
     ]
    }
   ],
   "source": [
    "data1.file_append(\"1st.txt\",\" and i created this in 2001\")"
   ]
  },
  {
   "cell_type": "code",
   "execution_count": 169,
   "metadata": {},
   "outputs": [
    {
     "name": "stdout",
     "output_type": "stream",
     "text": [
      "this is 2 file and i created this in 2011\n"
     ]
    }
   ],
   "source": [
    "data1.file_append(\"2nd.txt\",\" and i created this in 2011\")"
   ]
  },
  {
   "cell_type": "code",
   "execution_count": 170,
   "metadata": {},
   "outputs": [
    {
     "name": "stdout",
     "output_type": "stream",
     "text": [
      "this is 3 file and i created this in 2021\n"
     ]
    }
   ],
   "source": [
    "data1.file_append(\"3rd.txt\",\" and i created this in 2021\")"
   ]
  },
  {
   "cell_type": "markdown",
   "metadata": {},
   "source": [
    "## Q2) Create Logging and try, catch for above class"
   ]
  },
  {
   "cell_type": "code",
   "execution_count": 1,
   "metadata": {},
   "outputs": [],
   "source": [
    "import logging\n",
    "logging.basicConfig(filename = \"my.log\",level = logging.INFO,format = '%(asctime)s %(message)s')\n",
    "    \n",
    "class data1:\n",
    "    \n",
    "    def logg(self,*log):\n",
    "        logging.info(log)\n",
    "    \n",
    "    def __init__(self, fileName, fileType, date, size):\n",
    "        self.file_name = fileName\n",
    "        self.logg(\"Enter fileName : \",fileName)\n",
    "        self.file_type = fileType\n",
    "        self.logg(\"Enter fileType : \",fileType)\n",
    "        self.date = date\n",
    "        self.logg(\"Enter date : \", date)\n",
    "        self.size = size\n",
    "        self.logg(\"Enter size : \", size)\n",
    "        \n",
    "    \n",
    "    import os\n",
    "    def file_open(self):\n",
    "        self.logg(\"this is file_open function\")\n",
    "        try:\n",
    "            if type(self.file_name) == list:\n",
    "                for i in range(len(self.file_name)):\n",
    "                    self.logg(\"Check whether file is already present or not\")\n",
    "                \n",
    "                    if (self.file_name)[i]+\".\"+(self.file_type)[i] in os.listdir():\n",
    "                        self.logg((self.file_name)[i]+\".\"+(self.file_type)[i],\" this file is already present\")\n",
    "                    \n",
    "                        continue\n",
    "                \n",
    "                    else:\n",
    "                    \n",
    "                        f = open((self.file_name)[i]+\".\"+(self.file_type)[i],\"w\")\n",
    "                        self.logg(\"Create a new file \",(self.file_name)[i]+\".\"+(self.file_type)[i])\n",
    "                        a = input(\"Enter Data for \"+(self.file_name)[i]+\".\"+(self.file_type)[i]+\" file : \")\n",
    "                        f.write(a)\n",
    "                        self.logg(\"write \"+a+\" in file\")\n",
    "                        f.close()\n",
    "                        \n",
    "            elif type(self.file_name) == str:\n",
    "                f = open((self.file_name)+\".\"+(self.file_type),\"w\")\n",
    "                self.logg(\"Create a new file \",(self.file_name)+\".\"+(self.file_type))\n",
    "                a = input(\"Enter Data for \"+(self.file_name)+\".\"+(self.file_type)+\" file : \")\n",
    "                f.write(a)\n",
    "                self.logg(\"write \"+a+\" in file\")\n",
    "                f.close()\n",
    "                \n",
    "        except Exception as e:\n",
    "            self.logg(e,\" error \")\n",
    "            print(e,\" your data is not in valid form\")\n",
    "            \n",
    "    def file_read(self,name):\n",
    "        self.logg(\"this is file_read function\")\n",
    "        try:\n",
    "            \n",
    "            self.logg(\"check whether \"+name+\" is in there or not\")\n",
    "            if name in os.listdir():\n",
    "                f = open(name,\"r\")\n",
    "                self.logg(\"open \"+name+\" file\")\n",
    "                print(f.read())\n",
    "                self.logg(\"read \"+name+\"file\")\n",
    "                \n",
    "        except Exception as e:\n",
    "            self.logg(e,\" error \")\n",
    "            print(e,\" you enter invalid input\")\n",
    "            \n",
    "    def file_append(self,file):\n",
    "        self.logg(\"this is file_append function\")\n",
    "        \n",
    "        try:\n",
    "            self.logg(\"check whether \"+file+\" is there or not\")\n",
    "            \n",
    "            if file in os.listdir():\n",
    "                f = open(file,\"a+\")\n",
    "                self.logg(\"open \"+file)\n",
    "                b = input(\"Enter data for append in \"+file+\" file : \")\n",
    "                f.write(b)\n",
    "                self.logg(\"append \"+b+\" in \"+file)\n",
    "                f.seek(0)\n",
    "                print(f.read())\n",
    "                self.logg(\"read \"+file+\"file\")\n",
    "                f.close()\n",
    "                     \n",
    "        except Exception as e:\n",
    "            self.logg(e,\" error \")\n",
    "            print(e,\" you enter invalid input\")\n",
    "            \n",
    "    \n",
    "    def __str__(self):\n",
    "                     \n",
    "        return \"this create the file and holds data inside it\""
   ]
  },
  {
   "cell_type": "code",
   "execution_count": 2,
   "metadata": {},
   "outputs": [],
   "source": [
    "import os\n",
    "os.chdir('/home/er-royalprince/All/MY DATA/Data Science/Full Stack Data Science/1. Python/Code')\n",
    "os.mkdir(\"Data1\")\n",
    "os.chdir(os.getcwd()+\"/Data1\")"
   ]
  },
  {
   "cell_type": "code",
   "execution_count": 3,
   "metadata": {},
   "outputs": [],
   "source": [
    "my_data = data1([\"1st\",\"2nd\",\"3rd\"],[\"txt\",\"txt\",\"txt\"],[2001,2011,2021],[40,50,60])"
   ]
  },
  {
   "cell_type": "code",
   "execution_count": 4,
   "metadata": {},
   "outputs": [
    {
     "name": "stdout",
     "output_type": "stream",
     "text": [
      "Enter Data for 1st.txt file : this is my first file\n",
      "Enter Data for 2nd.txt file : this is my second file\n",
      "Enter Data for 3rd.txt file : this is my third file\n"
     ]
    }
   ],
   "source": [
    "my_data.file_open()"
   ]
  },
  {
   "cell_type": "code",
   "execution_count": 5,
   "metadata": {},
   "outputs": [
    {
     "name": "stdout",
     "output_type": "stream",
     "text": [
      "this is my first file\n"
     ]
    }
   ],
   "source": [
    "my_data.file_read('1st.txt')"
   ]
  },
  {
   "cell_type": "code",
   "execution_count": 6,
   "metadata": {},
   "outputs": [
    {
     "name": "stdout",
     "output_type": "stream",
     "text": [
      "this is my second file\n"
     ]
    }
   ],
   "source": [
    "my_data.file_read('2nd.txt')"
   ]
  },
  {
   "cell_type": "code",
   "execution_count": 7,
   "metadata": {},
   "outputs": [
    {
     "name": "stdout",
     "output_type": "stream",
     "text": [
      "this is my third file\n"
     ]
    }
   ],
   "source": [
    "my_data.file_read('3rd.txt')"
   ]
  },
  {
   "cell_type": "code",
   "execution_count": 8,
   "metadata": {},
   "outputs": [
    {
     "name": "stdout",
     "output_type": "stream",
     "text": [
      "Enter data for append in 1st.txt file :  this file is created in 2001\n",
      "this is my first file this file is created in 2001\n"
     ]
    }
   ],
   "source": [
    "my_data.file_append('1st.txt')"
   ]
  },
  {
   "cell_type": "code",
   "execution_count": 9,
   "metadata": {},
   "outputs": [
    {
     "name": "stdout",
     "output_type": "stream",
     "text": [
      "Enter data for append in 2nd.txt file :  this file is created in 2011\n",
      "this is my second file this file is created in 2011\n"
     ]
    }
   ],
   "source": [
    "my_data.file_append('2nd.txt')"
   ]
  },
  {
   "cell_type": "code",
   "execution_count": 10,
   "metadata": {},
   "outputs": [
    {
     "name": "stdout",
     "output_type": "stream",
     "text": [
      "Enter data for append in 3rd.txt file :  this file is created in 2021\n",
      "this is my third file this file is created in 2021\n"
     ]
    }
   ],
   "source": [
    "my_data.file_append('3rd.txt')"
   ]
  },
  {
   "cell_type": "code",
   "execution_count": null,
   "metadata": {},
   "outputs": [],
   "source": []
  }
 ],
 "metadata": {
  "kernelspec": {
   "display_name": "Python 3",
   "language": "python",
   "name": "python3"
  },
  "language_info": {
   "codemirror_mode": {
    "name": "ipython",
    "version": 3
   },
   "file_extension": ".py",
   "mimetype": "text/x-python",
   "name": "python",
   "nbconvert_exporter": "python",
   "pygments_lexer": "ipython3",
   "version": "3.7.3"
  }
 },
 "nbformat": 4,
 "nbformat_minor": 4
}
